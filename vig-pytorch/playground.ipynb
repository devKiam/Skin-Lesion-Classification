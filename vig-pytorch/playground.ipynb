{
 "cells": [
  {
   "attachments": {},
   "cell_type": "markdown",
   "metadata": {},
   "source": [
    "## 0. Importing necessary libraries,<br> Creating a folder for storing python scripts,<br> Setting up device-agnostic code\n",
    "\n",
    "Since we're going to be creating Python scripts out of our most useful code cells, let's create a folder for storing those scripts.\n",
    "\n",
    "We'll call the folder `TinyVGG_pytorch` and create it using Python's [`os.makedirs()`](https://docs.python.org/3/library/os.html) method."
   ]
  },
  {
   "cell_type": "code",
   "execution_count": 1,
   "metadata": {},
   "outputs": [
    {
     "data": {
      "text/plain": [
       "'2.0.0+cu118'"
      ]
     },
     "execution_count": 1,
     "metadata": {},
     "output_type": "execute_result"
    }
   ],
   "source": [
    "import os\n",
    "import torch\n",
    "from torch import nn\n",
    "\n",
    "torch.__version__"
   ]
  },
  {
   "attachments": {},
   "cell_type": "markdown",
   "metadata": {},
   "source": [
    "Creating a folder for python scripts"
   ]
  },
  {
   "cell_type": "code",
   "execution_count": 2,
   "metadata": {},
   "outputs": [],
   "source": [
    "os.makedirs(\"going_modular\", exist_ok=True)"
   ]
  },
  {
   "attachments": {},
   "cell_type": "markdown",
   "metadata": {},
   "source": [
    "Setting up device-agnostic code"
   ]
  },
  {
   "cell_type": "code",
   "execution_count": 3,
   "metadata": {},
   "outputs": [
    {
     "data": {
      "text/plain": [
       "'cuda'"
      ]
     },
     "execution_count": 3,
     "metadata": {},
     "output_type": "execute_result"
    }
   ],
   "source": [
    "device = \"cuda\" if torch.cuda.is_available() else \"cpu\"\n",
    "device"
   ]
  },
  {
   "attachments": {},
   "cell_type": "markdown",
   "metadata": {},
   "source": [
    "## 1. Get data\n"
   ]
  },
  {
   "attachments": {},
   "cell_type": "markdown",
   "metadata": {},
   "source": [
    "Data might be downloaded as splitted (ready-made) or not. If not, we need to take care of it by splitting by ourself own <br>\n",
    "If the image folder doesn't exist, download it as \"Retinal_image_all folder\" and prepare it... "
   ]
  },
  {
   "cell_type": "code",
   "execution_count": 4,
   "metadata": {},
   "outputs": [],
   "source": [
    "import os\n",
    "import zipfile\n",
    "\n",
    "from pathlib import Path\n",
    "import random\n",
    "import shutil\n",
    "from shutil import copyfile\n",
    "\n",
    "import requests\n",
    "import pandas as pd\n",
    "\n",
    "# Setup path to data folder\n",
    "data_path = Path(\"../Datasets/Retinal_image_Aptos_Eyepacs_Gaussian_Filtered/\")\n",
    "image_path = data_path / \"Retinal_image_Aptos_Eyepacs_Gaussian_Filtered_splitted\" # FOLDER path = splitted dataset into Train & Test\n",
    "image_path_all = data_path / \"Retinal_image_Aptos_Eyepacs_Gaussian_Filtered_all\" # FOLDER path = not yet splitted dataset\n",
    "\n",
    "\n",
    "\n",
    "# # If the image folder doesn't exist, download it as \"Retinal_image_all folder\" and prepare it... \n",
    "\n",
    "\n",
    "\n",
    "# if image_path.is_dir():\n",
    "#     print(f\"{image_path} directory exists.\")\n",
    "# else:\n",
    "#     print(f\"Did not find {image_path} directory, creating one...\")\n",
    "#     image_path.mkdir(parents=True, exist_ok=True)\n",
    "    \n",
    "# # Download pizza, steak, sushi data\n",
    "# with open(data_path / \"pizza_steak_sushi.zip\", \"wb\") as f:\n",
    "#     request = requests.get(\"https://github.com/mrdbourke/pytorch-deep-learning/raw/main/data/pizza_steak_sushi.zip\")\n",
    "#     print(\"Downloading pizza, steak, sushi data...\")\n",
    "#     f.write(request.content)\n",
    "\n",
    "# # Unzip pizza, steak, sushi data\n",
    "# with zipfile.ZipFile(data_path / \"pizza_steak_sushi.zip\", \"r\") as zip_ref:\n",
    "#     print(\"Unzipping pizza, steak, sushi data...\") \n",
    "#     zip_ref.extractall(image_path)\n",
    "\n",
    "# # Remove zip file\n",
    "# os.remove(data_path / \"pizza_steak_sushi.zip\")"
   ]
  },
  {
   "attachments": {},
   "cell_type": "markdown",
   "metadata": {},
   "source": [
    "### (If necessary) Preparing the dataset into class-folders using csv info - maybe splitting isn't necessary when we have \"train.csv\" and \"test.csv\""
   ]
  },
  {
   "cell_type": "code",
   "execution_count": 5,
   "metadata": {},
   "outputs": [],
   "source": [
    "## tasks -\n",
    "##          1. taking the \"train\" folder images into \"____all\" folder using train.csv with making no of folder-classes inside it\n",
    "\n",
    "# import shutil\n",
    "\n",
    "# csv_location = data_path / \"train.csv\"\n",
    "# # csv_location_test = data_path / \"test.csv\"\n",
    "\n",
    "# df_train_csv = pd.read_csv(csv_location)\n",
    "# # df_test_csv = pd.read_csv(csv_location_test)\n",
    "\n",
    "# class_names = df_train_csv['diagnosis'].unique()\n",
    "\n",
    "\n",
    "# COMMENT IT IF MAKING DIRECTORIES && NOT COPYING----------(train)-------------------\n",
    "\n",
    "# ## making directories according to no of classes\n",
    "# for i in range(len(class_names)):\n",
    "#     name = class_names[i]\n",
    "#     os.makedirs(f'{image_path_all}/{name}', exist_ok=True)  \n",
    "\n",
    "\n",
    "\n",
    "\n",
    "# ## taking images from train folder --> __all forder's class folder\n",
    "# for i in range(len(df_train_csv)):\n",
    "#     image_name = df_train_csv[\"id_code\"][i]\n",
    "#     class_name = df_train_csv[\"diagnosis\"][i]\n",
    "#     source_path = data_path / \"train_images\" / f\"{image_name}.png\"\n",
    "#     destination = image_path_all/ f\"{class_name}\"/ f\"{image_name}.png\"\n",
    "#     shutil.copyfile(source_path, destination)\n",
    "\n",
    "# COMMENT IT IF NOT COPYING--------------------------------(train)-------------------\n",
    "\n",
    "\n"
   ]
  },
  {
   "cell_type": "code",
   "execution_count": 6,
   "metadata": {},
   "outputs": [
    {
     "data": {
      "text/plain": [
       "{'Healthy': 27615,\n",
       " 'Mild_DR': 2813,\n",
       " 'Moderate_DR': 6291,\n",
       " 'Proliferate_DR': 1003,\n",
       " 'Severe_DR': 1066}"
      ]
     },
     "execution_count": 6,
     "metadata": {},
     "output_type": "execute_result"
    }
   ],
   "source": [
    "# no of samples per class\n",
    "\n",
    "classes = os.listdir(image_path_all)\n",
    "classes_no_of_data_dict = {}\n",
    "\n",
    "for i in range(len(classes)):\n",
    "    classes_no_of_data_dict[classes[i]] = len(os.listdir(image_path_all/classes[i]))\n",
    "\n",
    "classes_no_of_data_dict"
   ]
  },
  {
   "attachments": {},
   "cell_type": "markdown",
   "metadata": {},
   "source": [
    " ### If dataset balanced or not?\n",
    " <a href=\"https://matplotlib.org/stable/gallery/lines_bars_and_markers/categorical_variables.html#sphx-glr-gallery-lines-bars-and-markers-categorical-variables-py\n",
    "\">Matplotlib documentation - plotting categorical values</a>\n",
    "\n",
    "\n",
    "```Python\n",
    "data = {'apple': 10, 'orange': 15, 'lemon': 5, 'lime': 20}\n",
    "names = list(data.keys())\n",
    "values = list(data.values())\n",
    "\n",
    "fig, axs = plt.subplots(1, 3, figsize=(9, 3), sharey=True)\n",
    "axs[0].bar(names, values)\n",
    "axs[1].scatter(names, values)\n",
    "axs[2].plot(names, values)\n",
    "fig.suptitle('Categorical Plotting')\n",
    "```"
   ]
  },
  {
   "cell_type": "code",
   "execution_count": 7,
   "metadata": {},
   "outputs": [
    {
     "data": {
      "text/plain": [
       "Text(0.5, 0.98, 'Categorical Plotting')"
      ]
     },
     "execution_count": 7,
     "metadata": {},
     "output_type": "execute_result"
    },
    {
     "data": {
      "image/png": "[encoded data removed]",
      "text/plain": [
       "<Figure size 1728x576 with 3 Axes>"
      ]
     },
     "metadata": {
      "needs_background": "light"
     },
     "output_type": "display_data"
    }
   ],
   "source": [
    "import matplotlib.pyplot as plt\n",
    "\n",
    "\n",
    "data = classes_no_of_data_dict\n",
    "names = list(data.keys())\n",
    "values = list(data.values())\n",
    "\n",
    "fig, axs = plt.subplots(nrows=1, ncols=3, figsize=(24, 8), sharey=True)\n",
    "axs[0].bar(names, values)\n",
    "axs[1].scatter(names, values)\n",
    "axs[2].plot(names, values)\n",
    "fig.suptitle('Categorical Plotting')"
   ]
  },
  {
   "attachments": {},
   "cell_type": "markdown",
   "metadata": {},
   "source": [
    "### Augmentation(WIP)"
   ]
  },
  {
   "cell_type": "code",
   "execution_count": 8,
   "metadata": {},
   "outputs": [
    {
     "name": "stdout",
     "output_type": "stream",
     "text": [
      "                                           filepaths   labels\n",
      "0  ..\\Datasets\\Retinal_image_Aptos_Eyepacs_Gaussi...  Healthy\n",
      "1  ..\\Datasets\\Retinal_image_Aptos_Eyepacs_Gaussi...  Healthy\n",
      "2  ..\\Datasets\\Retinal_image_Aptos_Eyepacs_Gaussi...  Healthy\n",
      "3  ..\\Datasets\\Retinal_image_Aptos_Eyepacs_Gaussi...  Healthy\n",
      "4  ..\\Datasets\\Retinal_image_Aptos_Eyepacs_Gaussi...  Healthy\n",
      "df length:  38788\n",
      "Healthy           27615\n",
      "Moderate_DR        6291\n",
      "Mild_DR            2813\n",
      "Severe_DR          1066\n",
      "Proliferate_DR     1003\n",
      "Name: labels, dtype: int64\n"
     ]
    }
   ],
   "source": [
    "classlist = os.listdir(image_path_all)    \n",
    "filepaths = []\n",
    "labels = []\n",
    "\n",
    "\n",
    "for klass in classlist:\n",
    "    classpath=os.path.join(image_path_all,klass)\n",
    "    if os.path.isdir(classpath):\n",
    "        flist=os.listdir(classpath)        \n",
    "        for f in flist:\n",
    "            fpath=os.path.join(classpath,f)        \n",
    "            filepaths.append(fpath)\n",
    "            labels.append(klass)\n",
    "            \n",
    "Fseries=pd.Series(filepaths, name='filepaths')\n",
    "Lseries=pd.Series(labels, name='labels')    \n",
    "df=pd.concat([Fseries, Lseries], axis=1)  \n",
    "\n",
    "\n",
    "print (df.head())\n",
    "print('df length: ', len(df))\n",
    "print (df['labels'].value_counts())"
   ]
  },
  {
   "cell_type": "code",
   "execution_count": 9,
   "metadata": {},
   "outputs": [
    {
     "name": "stdout",
     "output_type": "stream",
     "text": [
      "['Healthy', 'Mild_DR', 'Moderate_DR', 'Proliferate_DR', 'Severe_DR']\n"
     ]
    }
   ],
   "source": [
    "import shutil\n",
    "from shutil import copyfile\n",
    "\n",
    "working_dir = data_path\n",
    "\n",
    "aug_dir=os.path.join(working_dir, 'aug')\n",
    "\n",
    "if os.path.isdir(aug_dir):\n",
    "    shutil.rmtree(aug_dir)\n",
    "os.mkdir(aug_dir)\n",
    "\n",
    "for label in df['labels'].unique():\n",
    "    dir_path=os.path.join(aug_dir,label)    \n",
    "    os.mkdir(dir_path)\n",
    "    \n",
    "print(os.listdir(aug_dir))"
   ]
  },
  {
   "attachments": {},
   "cell_type": "markdown",
   "metadata": {},
   "source": [
    "### Splitting"
   ]
  },
  {
   "attachments": {},
   "cell_type": "markdown",
   "metadata": {},
   "source": [
    "Data Description \n",
    "\n",
    "<ul>\n",
    "    <li> 0 - No DR </li>\n",
    "    <li> 1 - Mild </li>\n",
    "    <li> 2 - Moderate </li>\n",
    "    <li> 3 - Severe </li>\n",
    "    <li> 4 - Proliferative DR </li>\n",
    "<ul>"
   ]
  },
  {
   "cell_type": "code",
   "execution_count": 10,
   "metadata": {},
   "outputs": [],
   "source": [
    "# # Split the dataset if not splitted into - \"Retinal_image_splitted\" folder\n",
    "\n",
    "# source_path = image_path_all\n",
    "# print(source_path)\n",
    "\n",
    "# source_path_Healthy = os.path.join(source_path, 'Healthy')\n",
    "# source_path_Mild_DR = os.path.join(source_path, 'Mild_DR')\n",
    "# source_path_Moderate_DR = os.path.join(source_path, 'Moderate_DR')\n",
    "# source_path_Proliferate_DR = os.path.join(source_path, 'Proliferate_DR')\n",
    "# source_path_Severe_DR = os.path.join(source_path, 'Severe_DR')\n",
    "\n",
    "# # Deletes all non-image files (there are two .db files bundled into the dataset)\n",
    "# # !find / tmp/PetImages / -type f ! -name \"*.jpg\" -exec rm {} +\n",
    "\n",
    "# # os.listdir returns a list containing all files under the given path\n",
    "# print(f\"There are {len(os.listdir(source_path_Healthy))} images of Healthy retinal fundus iamges.\")\n",
    "# print(f\"There are {len(os.listdir(source_path_Mild_DR))} images of Mild DR retinal fundus iamges.\")\n",
    "# print(f\"There are {len(os.listdir(source_path_Moderate_DR))} images of Moderate DR retinal fundus iamges.\")\n",
    "# print(f\"There are {len(os.listdir(source_path_Proliferate_DR))} images of Proliferate DR retinal fundus iamges.\")\n",
    "# print(f\"There are {len(os.listdir(source_path_Severe_DR))} images of Severe DR retinal fundus images.\")"
   ]
  },
  {
   "cell_type": "code",
   "execution_count": 11,
   "metadata": {},
   "outputs": [],
   "source": [
    "# # Define root directory\n",
    "# root_dir = image_path\n",
    "\n",
    "# # # Empty directory to prevent FileExistsError is the function is run several times\n",
    "# # if os.path.exists(root_dir):\n",
    "# #     shutil.rmtree(root_dir)\n",
    "\n",
    "# # # GRADED FUNCTION: create_train_val_dirs\n",
    "\n",
    "\n",
    "# def create_train_val_dirs(root_path):\n",
    "#     \"\"\"\n",
    "#     Creates directories for the train and test sets\n",
    "\n",
    "#     Args:\n",
    "#       root_path (string) - the base directory path to create subdirectories from\n",
    "\n",
    "#     Returns:\n",
    "#       None\n",
    "#     \"\"\"\n",
    "#     # START CODE HERE\n",
    "\n",
    "#     # HINT:\n",
    "#     # Use os.makedirs to create your directories with intermediate subdirectories\n",
    "#     # Don't hardcode the paths. Use os.path.join to append the new directories to the root_path parameter\n",
    "\n",
    "#     import os\n",
    "\n",
    "#     training_dir = os.path.join(root_dir, \"train\")\n",
    "#     testing_dir = os.path.join(root_dir, \"test\")\n",
    "#     os.makedirs(training_dir)\n",
    "#     os.makedirs(testing_dir)\n",
    "\n",
    "#     training_Healthy_dir = os.path.join(training_dir, \"Healthy\")\n",
    "#     training_Mild_DR_dir = os.path.join(training_dir, \"Mild_DR\")\n",
    "#     training_Moderate_DR_dir = os.path.join(training_dir, \"Moderate_DR\")\n",
    "#     training_Proliferate_DR_dir = os.path.join(training_dir, \"Proliferate_DR\")\n",
    "#     training_Severe_DR_dir = os.path.join(training_dir, \"Severe_DR\")\n",
    "#     os.makedirs(training_Healthy_dir)\n",
    "#     os.makedirs(training_Mild_DR_dir)\n",
    "#     os.makedirs(training_Moderate_DR_dir)\n",
    "#     os.makedirs(training_Proliferate_DR_dir)\n",
    "#     os.makedirs(training_Severe_DR_dir)\n",
    "\n",
    "#     testing_Healthy_dir = os.path.join(testing_dir, \"Healthy\")\n",
    "#     testing_Mild_DR_dir = os.path.join(testing_dir, \"Mild_DR\")\n",
    "#     testing_Moderate_DR_dir = os.path.join(testing_dir, \"Moderate_DR\")\n",
    "#     testing_Proliferate_DR_dir = os.path.join(testing_dir, \"Proliferate_DR\")\n",
    "#     testing_Severe_DR_dir = os.path.join(testing_dir, \"Severe_DR\")\n",
    "#     os.makedirs(testing_Healthy_dir)\n",
    "#     os.makedirs(testing_Mild_DR_dir)\n",
    "#     os.makedirs(testing_Moderate_DR_dir)\n",
    "#     os.makedirs(testing_Proliferate_DR_dir)\n",
    "#     os.makedirs(testing_Severe_DR_dir)\n",
    "\n",
    "#     return training_dir, testing_dir, training_Healthy_dir, training_Mild_DR_dir, training_Moderate_DR_dir, training_Proliferate_DR_dir, training_Severe_DR_dir, testing_Healthy_dir, testing_Mild_DR_dir, testing_Moderate_DR_dir, testing_Proliferate_DR_dir, testing_Severe_DR_dir\n",
    "#     # END CODE HERE\n",
    "\n",
    "\n",
    "# try:\n",
    "#     training_dir, testing_dir, training_Healthy_dir, training_Mild_DR_dir, training_Moderate_DR_dir, training_Proliferate_DR_dir, training_Severe_DR_dir, testing_Healthy_dir, testing_Mild_DR_dir, testing_Moderate_DR_dir, testing_Proliferate_DR_dir, testing_Severe_DR_dir = create_train_val_dirs(root_path=root_dir)\n",
    "# except FileExistsError:\n",
    "#     print(\"You should not be seeing this since the upper directory is removed beforehand\")\n"
   ]
  },
  {
   "cell_type": "code",
   "execution_count": 12,
   "metadata": {},
   "outputs": [],
   "source": [
    "# # Test your create_train_val_dirs function\n",
    "\n",
    "# for rootdir, dirs, files in os.walk(root_dir):\n",
    "#     for subdir in dirs:\n",
    "#         print(os.path.join(rootdir, subdir))"
   ]
  },
  {
   "cell_type": "code",
   "execution_count": 13,
   "metadata": {},
   "outputs": [],
   "source": [
    "# # GRADED FUNCTION: split_data\n",
    "# def split_data(SOURCE_DIR, TRAINING_DIR, VALIDATION_DIR, SPLIT_SIZE):\n",
    "#     \"\"\"\n",
    "#     Splits the data into train and test sets\n",
    "\n",
    "#     Args:\n",
    "#       SOURCE_DIR (string): directory path containing the images\n",
    "#       TRAINING_DIR (string): directory path to be used for training\n",
    "#       VALIDATION_DIR (string): directory path to be used for validation\n",
    "#       SPLIT_SIZE (float): proportion of the dataset to be used for training\n",
    "\n",
    "#     Returns:\n",
    "#       None\n",
    "#     \"\"\"\n",
    "\n",
    "#     # START CODE HERE\n",
    "\n",
    "#     contents_source_dir = os.listdir(SOURCE_DIR)\n",
    "#     contents_source_dir = random.sample(contents_source_dir, len(contents_source_dir))\n",
    "\n",
    "#     training_number = int(len(contents_source_dir) * SPLIT_SIZE)\n",
    "#     target_dir = TRAINING_DIR\n",
    "\n",
    "#     for index in range(len(contents_source_dir)):\n",
    "#         if os.path.getsize(os.path.join(SOURCE_DIR, contents_source_dir[index])) == 0:\n",
    "#             print(f\"{contents_source_dir[index]} is zero length, so ignoring.\")\n",
    "#         else:\n",
    "#             copyfile(os.path.join(SOURCE_DIR, contents_source_dir[index]), os.path.join(target_dir, contents_source_dir[index]))\n",
    "\n",
    "#         if index == training_number:\n",
    "#             target_dir = VALIDATION_DIR\n",
    "\n",
    "#     # END CODE HERE\n"
   ]
  },
  {
   "cell_type": "code",
   "execution_count": 14,
   "metadata": {},
   "outputs": [],
   "source": [
    "# # Empty directories in case you run this cell multiple times\n",
    "# if len(os.listdir(training_Healthy_dir)) > 0:\n",
    "#     for file in os.scandir(training_Healthy_dir):\n",
    "#         os.remove(file.path)\n",
    "\n",
    "# if len(os.listdir(training_Mild_DR_dir)) > 0:\n",
    "#     for file in os.scandir(training_Mild_DR_dir):\n",
    "#         os.remove(file.path)\n",
    "\n",
    "# if len(os.listdir(training_Moderate_DR_dir)) > 0:\n",
    "#     for file in os.scandir(training_Moderate_DR_dir):\n",
    "#         os.remove(file.path)\n",
    "\n",
    "# if len(os.listdir(training_Proliferate_DR_dir)) > 0:\n",
    "#     for file in os.scandir(training_Proliferate_DR_dir):\n",
    "#         os.remove(file.path)\n",
    "\n",
    "# if len(os.listdir(training_Severe_DR_dir)) > 0:\n",
    "#     for file in os.scandir(training_Severe_DR_dir):\n",
    "#         os.remove(file.path)\n",
    "\n",
    "\n",
    "\n",
    "\n",
    "# if len(os.listdir(testing_Healthy_dir)) > 0:\n",
    "#     for file in os.scandir(testing_Healthy_dir):\n",
    "#         os.remove(file.path)\n",
    "\n",
    "# if len(os.listdir(testing_Mild_DR_dir)) > 0:\n",
    "#     for file in os.scandir(testing_Mild_DR_dir):\n",
    "#         os.remove(file.path)\n",
    "\n",
    "# if len(os.listdir(testing_Moderate_DR_dir)) > 0:\n",
    "#     for file in os.scandir(testing_Moderate_DR_dir):\n",
    "#         os.remove(file.path)\n",
    "\n",
    "# if len(os.listdir(testing_Proliferate_DR_dir)) > 0:\n",
    "#     for file in os.scandir(testing_Proliferate_DR_dir):\n",
    "#         os.remove(file.path)\n",
    "\n",
    "# if len(os.listdir(testing_Severe_DR_dir)) > 0:\n",
    "#     for file in os.scandir(testing_Severe_DR_dir):\n",
    "#         os.remove(file.path)\n",
    "\n",
    "# # Define proportion of images used for training\n",
    "# split_size = .8\n",
    "\n",
    "# # Run the function\n",
    "# # NOTE: Messages about zero length images should be printed out\n",
    "# split_data(source_path_Healthy, training_Healthy_dir, testing_Healthy_dir, split_size)\n",
    "# split_data(source_path_Mild_DR, training_Mild_DR_dir, testing_Mild_DR_dir, split_size)\n",
    "# split_data(source_path_Moderate_DR, training_Moderate_DR_dir, testing_Moderate_DR_dir, split_size)\n",
    "# split_data(source_path_Proliferate_DR, training_Proliferate_DR_dir, testing_Proliferate_DR_dir, split_size)\n",
    "# split_data(source_path_Severe_DR, training_Severe_DR_dir, testing_Severe_DR_dir, split_size)\n",
    "\n",
    "# # Check that the number of images matches the expected output\n",
    "\n",
    "# # Your function should perform copies rather than moving images so original directories should contain unchanged images\n",
    "# print(f\"\\n\\nOriginal Healthy directory has {len(os.listdir(source_path_Healthy))} images\")\n",
    "# print(f\"Original Mild DR directory has {len(os.listdir(source_path_Mild_DR))} images\")\n",
    "# print(f\"Original Moderate DR directory has {len(os.listdir(source_path_Moderate_DR))} images\")\n",
    "# print(f\"Original Proliferate DR directory has {len(os.listdir(source_path_Proliferate_DR))} images\")\n",
    "# print(f\"Original Severe DR directory has {len(os.listdir(source_path_Severe_DR))} images\\n\")\n",
    "\n",
    "# # Training and validation splits\n",
    "# print(f\"There are {len(os.listdir(training_Healthy_dir))} images of Healthy for training\")\n",
    "# print(f\"There are {len(os.listdir(training_Mild_DR_dir))} images of Mild DR for training\")\n",
    "# print(f\"There are {len(os.listdir(training_Moderate_DR_dir))} images of Moderate DR for training\")\n",
    "# print(f\"There are {len(os.listdir(training_Proliferate_DR_dir))} images of Proliferate DR for training\")\n",
    "# print(f\"There are {len(os.listdir(training_Severe_DR_dir))} images of Severe for training\\n\\n\")\n",
    "\n",
    "# print(f\"There are {len(os.listdir(testing_Healthy_dir))} images of Healthy for Validation\")\n",
    "# print(f\"There are {len(os.listdir(testing_Mild_DR_dir))} images of Mild DR for Validation\")\n",
    "# print(f\"There are {len(os.listdir(testing_Moderate_DR_dir))} images of Moderate DR for Validation\")\n",
    "# print(f\"There are {len(os.listdir(testing_Proliferate_DR_dir))} images of Proliferate DR for Validation\")\n",
    "# print(f\"There are {len(os.listdir(testing_Severe_DR_dir))} images of Severe for Validation\")"
   ]
  },
  {
   "attachments": {},
   "cell_type": "markdown",
   "metadata": {},
   "source": [
    "##### Splitting process ends here....................."
   ]
  },
  {
   "cell_type": "code",
   "execution_count": 15,
   "metadata": {},
   "outputs": [
    {
     "data": {
      "text/plain": [
       "(WindowsPath('../Datasets/Retinal_image_Aptos_Eyepacs_Gaussian_Filtered/Retinal_image_Aptos_Eyepacs_Gaussian_Filtered_splitted/train'),\n",
       " WindowsPath('../Datasets/Retinal_image_Aptos_Eyepacs_Gaussian_Filtered/Retinal_image_Aptos_Eyepacs_Gaussian_Filtered_splitted/test'))"
      ]
     },
     "execution_count": 15,
     "metadata": {},
     "output_type": "execute_result"
    }
   ],
   "source": [
    "# Setup train and testing paths\n",
    "train_dir = image_path / \"train\"\n",
    "test_dir = image_path / \"test\"\n",
    "\n",
    "train_dir, test_dir"
   ]
  },
  {
   "attachments": {},
   "cell_type": "markdown",
   "metadata": {},
   "source": [
    "## 2. Create Datasets and DataLoaders\n",
    "\n",
    "Let's turn our data into PyTorch `Dataset`'s and `DataLoader`'s and find out a few useful attributes from them such as `classes` and their lengths. "
   ]
  },
  {
   "cell_type": "code",
   "execution_count": 16,
   "metadata": {},
   "outputs": [
    {
     "name": "stdout",
     "output_type": "stream",
     "text": [
      "Manually created transforms: Compose(\n",
      "    Resize(size=(224, 224), interpolation=bilinear, max_size=None, antialias=warn)\n",
      "    ToTensor()\n",
      "    Normalize(mean=(0.5, 0.5, 0.5), std=(0.5, 0.5, 0.5))\n",
      ")\n",
      "Train data:\n",
      "Dataset ImageFolder\n",
      "    Number of datapoints: 31033\n",
      "    Root location: ..\\Datasets\\Retinal_image_Aptos_Eyepacs_Gaussian_Filtered\\Retinal_image_Aptos_Eyepacs_Gaussian_Filtered_splitted\\train\n",
      "    StandardTransform\n",
      "Transform: Compose(\n",
      "               Resize(size=(224, 224), interpolation=bilinear, max_size=None, antialias=warn)\n",
      "               ToTensor()\n",
      "               Normalize(mean=(0.5, 0.5, 0.5), std=(0.5, 0.5, 0.5))\n",
      "           )\n",
      "Test data:\n",
      "Dataset ImageFolder\n",
      "    Number of datapoints: 7755\n",
      "    Root location: ..\\Datasets\\Retinal_image_Aptos_Eyepacs_Gaussian_Filtered\\Retinal_image_Aptos_Eyepacs_Gaussian_Filtered_splitted\\test\n",
      "    StandardTransform\n",
      "Transform: Compose(\n",
      "               Resize(size=(224, 224), interpolation=bilinear, max_size=None, antialias=warn)\n",
      "               ToTensor()\n",
      "               Normalize(mean=(0.5, 0.5, 0.5), std=(0.5, 0.5, 0.5))\n",
      "           )\n"
     ]
    }
   ],
   "source": [
    "from torchvision import datasets, transforms\n",
    "\n",
    "# Create image size (from Table 3 in the ViT paper) \n",
    "IMG_SIZE = 224\n",
    "# IMG_SIZE = 64\n",
    "\n",
    "# Create transform pipeline manually\n",
    "data_transform = transforms.Compose([\n",
    "    transforms.Resize((IMG_SIZE, IMG_SIZE)),\n",
    "    transforms.ToTensor(),\n",
    "    transforms.Normalize((0.5, 0.5, 0.5), (0.5, 0.5, 0.5)),\n",
    "    # transforms.Normalize([0.485, 0.456, 0.406], [0.229, 0.224, 0.225]),\n",
    "])           \n",
    "print(f\"Manually created transforms: {data_transform}\")\n",
    "\n",
    "\n",
    "# Use ImageFolder to create dataset(s)\n",
    "train_data = datasets.ImageFolder(root=train_dir, # target folder of images\n",
    "                                  transform=data_transform, # transforms to perform on data (images)\n",
    "                                  target_transform=None) # transforms to perform on labels (if necessary)\n",
    "\n",
    "test_data = datasets.ImageFolder(root=test_dir, \n",
    "                                 transform=data_transform)\n",
    "\n",
    "print(f\"Train data:\\n{train_data}\\nTest data:\\n{test_data}\")"
   ]
  },
  {
   "cell_type": "code",
   "execution_count": 17,
   "metadata": {},
   "outputs": [
    {
     "data": {
      "text/plain": [
       "['Healthy', 'Mild_DR', 'Moderate_DR', 'Proliferate_DR', 'Severe_DR']"
      ]
     },
     "execution_count": 17,
     "metadata": {},
     "output_type": "execute_result"
    }
   ],
   "source": [
    "# Get class names as a list\n",
    "class_names = train_data.classes\n",
    "class_names"
   ]
  },
  {
   "cell_type": "code",
   "execution_count": 18,
   "metadata": {},
   "outputs": [
    {
     "data": {
      "text/plain": [
       "{'Healthy': 0,\n",
       " 'Mild_DR': 1,\n",
       " 'Moderate_DR': 2,\n",
       " 'Proliferate_DR': 3,\n",
       " 'Severe_DR': 4}"
      ]
     },
     "execution_count": 18,
     "metadata": {},
     "output_type": "execute_result"
    }
   ],
   "source": [
    "# Can also get class names as a dict\n",
    "class_dict = train_data.class_to_idx\n",
    "class_dict"
   ]
  },
  {
   "cell_type": "code",
   "execution_count": 19,
   "metadata": {},
   "outputs": [
    {
     "data": {
      "text/plain": [
       "(31033, 7755)"
      ]
     },
     "execution_count": 19,
     "metadata": {},
     "output_type": "execute_result"
    }
   ],
   "source": [
    "# Check the lengths\n",
    "len(train_data), len(test_data)"
   ]
  },
  {
   "cell_type": "code",
   "execution_count": 20,
   "metadata": {},
   "outputs": [
    {
     "data": {
      "text/plain": [
       "(970, 243)"
      ]
     },
     "execution_count": 20,
     "metadata": {},
     "output_type": "execute_result"
    }
   ],
   "source": [
    "# Turn train and test Datasets into DataLoaders\n",
    "from torch.utils.data import DataLoader\n",
    "# from torchsampler import ImbalancedDatasetSampler\n",
    "\n",
    "BATCH_SIZE = 32\n",
    "\n",
    "train_dataloader = DataLoader(dataset=train_data, \n",
    "                              batch_size=BATCH_SIZE, # how many samples per batch?\n",
    "                              num_workers=1, # how many subprocesses to use for data loading? (higher = more)\n",
    "                              shuffle=True,\n",
    "                              # sampler=ImbalancedDatasetSampler(train_data)\n",
    "                              ) # shuffle the data?\n",
    "\n",
    "test_dataloader = DataLoader(dataset=test_data, \n",
    "                             batch_size=BATCH_SIZE, \n",
    "                             num_workers=1, \n",
    "                             shuffle=False,\n",
    "                            #  shuffle=True,\n",
    "                            #  sampler=ImbalancedDatasetSampler(test_data)\n",
    "                             ) # don't usually need to shuffle testing data\n",
    "\n",
    "len(train_dataloader), len(test_dataloader)"
   ]
  },
  {
   "cell_type": "code",
   "execution_count": 21,
   "metadata": {},
   "outputs": [
    {
     "name": "stdout",
     "output_type": "stream",
     "text": [
      "Image shape: torch.Size([32, 3, 224, 224]) -> [batch_size, color_channels, height, width]\n",
      "Label shape: torch.Size([32])\n"
     ]
    }
   ],
   "source": [
    "# Check out single image size/shape\n",
    "img, label = next(iter(train_dataloader))\n",
    "\n",
    "# Batch size will now be 1, try changing the batch_size parameter above and see what happens\n",
    "print(f\"Image shape: {img.shape} -> [batch_size, color_channels, height, width]\")\n",
    "print(f\"Label shape: {label.shape}\")"
   ]
  },
  {
   "cell_type": "code",
   "execution_count": 22,
   "metadata": {},
   "outputs": [
    {
     "data": {
      "text/plain": [
       "(torch.Size([3, 224, 224]), tensor(0))"
      ]
     },
     "execution_count": 22,
     "metadata": {},
     "output_type": "execute_result"
    }
   ],
   "source": [
    "# Get a batch of images\n",
    "image_batch, label_batch = next(iter(train_dataloader))\n",
    "\n",
    "# Get a single image from the batch\n",
    "image, label = image_batch[0], label_batch[0]\n",
    "\n",
    "# View the batch shapes\n",
    "image.shape, label"
   ]
  },
  {
   "attachments": {},
   "cell_type": "markdown",
   "metadata": {},
   "source": [
    "### From github"
   ]
  },
  {
   "cell_type": "code",
   "execution_count": 23,
   "metadata": {},
   "outputs": [],
   "source": [
    "import math\n",
    "import torch\n",
    "import torch.nn as nn\n",
    "import torch.nn.functional as F\n",
    "from torch.nn import Sequential as Seq\n",
    "from gcn_lib import Grapher, act_layer\n",
    "\n",
    "from timm.data import IMAGENET_DEFAULT_MEAN, IMAGENET_DEFAULT_STD\n",
    "from timm.models.helpers import load_pretrained\n",
    "from timm.models.layers import DropPath, to_2tuple, trunc_normal_\n",
    "from timm.models.registry import register_model"
   ]
  },
  {
   "cell_type": "code",
   "execution_count": 24,
   "metadata": {},
   "outputs": [],
   "source": [
    "class Stem(nn.Module):\n",
    "    \"\"\" Image to Visual Word Embedding\n",
    "    Overlap: https://arxiv.org/pdf/2106.13797.pdf\n",
    "    \"\"\"\n",
    "    def __init__(self, img_size=224, in_dim=3, out_dim=768, act='relu'):\n",
    "        super().__init__()\n",
    "        self.convs = nn.Sequential(\n",
    "            nn.Conv2d(in_dim, out_dim//8, 3, stride=2, padding=1),\n",
    "            nn.BatchNorm2d(out_dim//8),\n",
    "            act_layer(act),\n",
    "            nn.Conv2d(out_dim//8, out_dim//4, 3, stride=2, padding=1),\n",
    "            nn.BatchNorm2d(out_dim//4),\n",
    "            act_layer(act),\n",
    "            nn.Conv2d(out_dim//4, out_dim//2, 3, stride=2, padding=1),\n",
    "            nn.BatchNorm2d(out_dim//2),\n",
    "            act_layer(act),\n",
    "            nn.Conv2d(out_dim//2, out_dim, 3, stride=2, padding=1),\n",
    "            nn.BatchNorm2d(out_dim),\n",
    "            act_layer(act),\n",
    "            nn.Conv2d(out_dim, out_dim, 3, stride=1, padding=1),\n",
    "            nn.BatchNorm2d(out_dim),\n",
    "        )\n",
    "\n",
    "    def forward(self, x):\n",
    "        x = self.convs(x)\n",
    "        return x"
   ]
  },
  {
   "cell_type": "code",
   "execution_count": 25,
   "metadata": {},
   "outputs": [],
   "source": [
    "from going_modular.helper_functions import download_data, set_seeds, plot_loss_curves\n",
    "\n",
    "# set_seeds()\n",
    "\n",
    "# # Create an instance of patch embedding layer\n",
    "# patchify = Stem(img_size=224, in_dim=3, out_dim=768, act='relu')\n",
    "\n",
    "# # Pass a single image through\n",
    "# print(f\"Input image shape: {image.unsqueeze(0).shape}\")\n",
    "# patch_embedded_image = patchify(image.unsqueeze(0)) # add an extra batch dimension on the 0th index, otherwise will error\n",
    "# print(f\"Output patch embedding shape: {patch_embedded_image.shape}\")"
   ]
  },
  {
   "cell_type": "code",
   "execution_count": 26,
   "metadata": {},
   "outputs": [],
   "source": [
    "class FFN(nn.Module):\n",
    "    def __init__(self, in_features, hidden_features=None, out_features=None, act='relu', drop_path=0.0):\n",
    "        super().__init__()\n",
    "        out_features = out_features or in_features\n",
    "        hidden_features = hidden_features or in_features\n",
    "        self.fc1 = nn.Sequential(\n",
    "            nn.Conv2d(in_features, hidden_features, 1, stride=1, padding=0),\n",
    "            nn.BatchNorm2d(hidden_features),\n",
    "        )\n",
    "        self.act = act_layer(act)\n",
    "        self.fc2 = nn.Sequential(\n",
    "            nn.Conv2d(hidden_features, out_features, 1, stride=1, padding=0),\n",
    "            nn.BatchNorm2d(out_features),\n",
    "        )\n",
    "        self.drop_path = DropPath(drop_path) if drop_path > 0. else nn.Identity()\n",
    "\n",
    "    def forward(self, x):\n",
    "        shortcut = x\n",
    "        x = self.fc1(x)\n",
    "        x = self.act(x)\n",
    "        x = self.fc2(x)\n",
    "        x = self.drop_path(x) + shortcut\n",
    "        return x"
   ]
  },
  {
   "cell_type": "code",
   "execution_count": 27,
   "metadata": {},
   "outputs": [],
   "source": [
    "class DeepGCN(torch.nn.Module):\n",
    "    def __init__(self, opt):\n",
    "        super(DeepGCN, self).__init__()\n",
    "        channels = opt.n_filters\n",
    "        k = opt.k\n",
    "        act = opt.act\n",
    "        norm = opt.norm\n",
    "        bias = opt.bias\n",
    "        epsilon = opt.epsilon\n",
    "        stochastic = opt.use_stochastic\n",
    "        conv = opt.conv\n",
    "        self.n_blocks = opt.n_blocks\n",
    "        drop_path = opt.drop_path\n",
    "        \n",
    "        self.stem = Stem(out_dim=channels, act=act)\n",
    "\n",
    "        dpr = [x.item() for x in torch.linspace(0, drop_path, self.n_blocks)]  # stochastic depth decay rule \n",
    "        print('dpr', dpr)\n",
    "        num_knn = [int(x.item()) for x in torch.linspace(k, 2*k, self.n_blocks)]  # number of knn's k\n",
    "        print('num_knn', num_knn)\n",
    "        max_dilation = 196 // max(num_knn)\n",
    "        \n",
    "        self.pos_embed = nn.Parameter(torch.zeros(1, channels, 14, 14))\n",
    "\n",
    "        if opt.use_dilation:   ## true \n",
    "            self.backbone = Seq(*[Seq(Grapher(channels, num_knn[i], min(i // 4 + 1, max_dilation), conv, act, norm,\n",
    "                                                bias, stochastic, epsilon, 1, drop_path=dpr[i]),\n",
    "                                      FFN(channels, channels * 4, act=act, drop_path=dpr[i])\n",
    "                                     ) for i in range(self.n_blocks)])\n",
    "        else: ## false\n",
    "            self.backbone = Seq(*[Seq(Grapher(channels, num_knn[i], 1, conv, act, norm,\n",
    "                                                bias, stochastic, epsilon, 1, drop_path=dpr[i]),\n",
    "                                      FFN(channels, channels * 4, act=act, drop_path=dpr[i])\n",
    "                                     ) for i in range(self.n_blocks)])\n",
    "        ## elif:----------------------------\n",
    "        self.prediction = Seq(nn.Conv2d(channels, 1024, 1, bias=True),\n",
    "                              nn.BatchNorm2d(1024),\n",
    "                              act_layer(act),\n",
    "                              nn.Dropout(opt.dropout),\n",
    "                              nn.Conv2d(1024, opt.n_classes, 1, bias=True))\n",
    "        self.model_init()\n",
    "\n",
    "    def model_init(self):\n",
    "        for m in self.modules():\n",
    "            if isinstance(m, torch.nn.Conv2d):\n",
    "                torch.nn.init.kaiming_normal_(m.weight)\n",
    "                m.weight.requires_grad = True\n",
    "                if m.bias is not None:\n",
    "                    m.bias.data.zero_()\n",
    "                    m.bias.requires_grad = True\n",
    "\n",
    "    def forward(self, inputs):\n",
    "        # print((self.stem(inputs).shape))\n",
    "        # print((self.pos_embed).shape)\n",
    "        x = self.stem(inputs) + self.pos_embed\n",
    "        B, C, H, W = x.shape\n",
    "        \n",
    "        for i in range(self.n_blocks):\n",
    "            x = self.backbone[i](x)\n",
    "\n",
    "        x = F.adaptive_avg_pool2d(x, 1)\n",
    "        return self.prediction(x).squeeze(-1).squeeze(-1)"
   ]
  },
  {
   "cell_type": "code",
   "execution_count": 28,
   "metadata": {},
   "outputs": [],
   "source": [
    "def _cfg(url='', **kwargs):\n",
    "    return {\n",
    "        'url': url,\n",
    "        'num_classes': 5, 'input_size': (3, 224, 224), 'pool_size': None,\n",
    "        'crop_pct': .9, \n",
    "        'interpolation': 'bicubic',\n",
    "        'mean': IMAGENET_DEFAULT_MEAN, 'std': IMAGENET_DEFAULT_STD,\n",
    "        'first_conv': 'patch_embed.proj', 'classifier': 'head',\n",
    "        **kwargs\n",
    "    }\n",
    "\n",
    "\n",
    "default_cfgs = {\n",
    "    'gnn_patch16_224': _cfg(\n",
    "        crop_pct=0.9,\n",
    "        input_size=(3, 224, 224),\n",
    "        mean=(0.5, 0.5, 0.5), std=(0.5, 0.5, 0.5),\n",
    "        # mean=(0.485, 0.456, 0.406), std = (0.229, 0.224, 0.225)\n",
    "    ),\n",
    "}\n",
    "\n",
    "\n",
    "\n",
    "def vig_ti_224_gelu(pretrained=False, **kwargs):\n",
    "    class OptInit:\n",
    "        def __init__(self, num_classes=5, drop_path_rate=0.0, drop_rate=0.0, num_knn=9, **kwargs):\n",
    "            self.k = num_knn # neighbor num (default:9)\n",
    "            self.conv = 'mr' # graph conv layer {edge, mr}\n",
    "            self.act = 'gelu' # activation layer {relu, prelu, leakyrelu, gelu, hswish}\n",
    "            self.norm = 'batch' # batch or instance normalization {batch, instance}\n",
    "            self.bias = True # bias of conv layer True or False\n",
    "            self.n_blocks = 12 # number of basic blocks in the backbone\n",
    "            self.n_filters = 192 # number of channels of deep features\n",
    "            self.n_classes = num_classes # Dimension of out_channels\n",
    "            self.dropout = drop_rate # dropout rate\n",
    "            self.use_dilation = True # use dilated knn or not\n",
    "            self.epsilon = 0.2 # stochastic epsilon for gcn\n",
    "            self.use_stochastic = False # stochastic for gcn, True or False\n",
    "            self.drop_path = drop_path_rate\n",
    "\n",
    "    opt = OptInit(**kwargs)\n",
    "    model = DeepGCN(opt)\n",
    "    model.default_cfg = default_cfgs['gnn_patch16_224']\n",
    "    return model\n",
    "\n",
    "\n",
    "def vig_s_224_gelu(pretrained=False, **kwargs):\n",
    "    class OptInit:\n",
    "        def __init__(self, num_classes=5, drop_path_rate=0.0, drop_rate=0.0, num_knn=9, **kwargs):\n",
    "            self.k = num_knn # neighbor num (default:9)\n",
    "            self.conv = 'mr' # graph conv layer {edge, mr}\n",
    "            self.act = 'gelu' # activation layer {relu, prelu, leakyrelu, gelu, hswish}\n",
    "            self.norm = 'batch' # batch or instance normalization {batch, instance}\n",
    "            self.bias = True # bias of conv layer True or False\n",
    "            self.n_blocks = 16 # number of basic blocks in the backbone\n",
    "            self.n_filters = 320 # number of channels of deep features\n",
    "            self.n_classes = num_classes # Dimension of out_channels\n",
    "            self.dropout = drop_rate # dropout rate\n",
    "            self.use_dilation = True # use dilated knn or not\n",
    "            self.epsilon = 0.2 # stochastic epsilon for gcn\n",
    "            self.use_stochastic = False # stochastic for gcn, True or False\n",
    "            self.drop_path = drop_path_rate\n",
    "\n",
    "    opt = OptInit(**kwargs)\n",
    "    model = DeepGCN(opt)\n",
    "    model.default_cfg = default_cfgs['gnn_patch16_224']\n",
    "    return model\n",
    "\n",
    "\n",
    "def vig_b_224_gelu(pretrained=False, **kwargs):\n",
    "    class OptInit:\n",
    "        def __init__(self, num_classes=5, drop_path_rate=0.0, drop_rate=0.0, num_knn=9, **kwargs):\n",
    "            self.k = num_knn # neighbor num (default:9)\n",
    "            self.conv = 'mr' # graph conv layer {edge, mr}\n",
    "            self.act = 'gelu' # activation layer {relu, prelu, leakyrelu, gelu, hswish}\n",
    "            self.norm = 'batch' # batch or instance normalization {batch, instance}\n",
    "            self.bias = True # bias of conv layer True or False\n",
    "            self.n_blocks = 16 # number of basic blocks in the backbone\n",
    "            self.n_filters = 640 # number of channels of deep features\n",
    "            self.n_classes = num_classes # Dimension of out_channels\n",
    "            self.dropout = drop_rate # dropout rate\n",
    "            self.use_dilation = True # use dilated knn or not\n",
    "            self.epsilon = 0.2 # stochastic epsilon for gcn\n",
    "            self.use_stochastic = False # stochastic for gcn, True or False\n",
    "            self.drop_path = drop_path_rate\n",
    "\n",
    "    opt = OptInit(**kwargs)\n",
    "    model = DeepGCN(opt)\n",
    "    model.default_cfg = default_cfgs['gnn_patch16_224']\n",
    "    return model"
   ]
  },
  {
   "cell_type": "code",
   "execution_count": 29,
   "metadata": {},
   "outputs": [
    {
     "name": "stdout",
     "output_type": "stream",
     "text": [
      "dpr [0.0, 0.0, 0.0, 0.0, 0.0, 0.0, 0.0, 0.0, 0.0, 0.0, 0.0, 0.0]\n",
      "num_knn [9, 9, 10, 11, 12, 13, 13, 14, 15, 16, 17, 18]\n"
     ]
    }
   ],
   "source": [
    "model = vig_ti_224_gelu().to(device)\n",
    "# model"
   ]
  },
  {
   "cell_type": "code",
   "execution_count": 30,
   "metadata": {},
   "outputs": [
    {
     "name": "stderr",
     "output_type": "stream",
     "text": [
      "d:\\Python310\\lib\\site-packages\\torchinfo\\torchinfo.py:477: UserWarning: TypedStorage is deprecated. It will be removed in the future and UntypedStorage will be the only storage class. This should only matter to you if you are using storages directly.  To access UntypedStorage directly, use tensor.untyped_storage() instead of tensor.storage()\n",
      "  action_fn=lambda data: sys.getsizeof(data.storage()),\n",
      "d:\\Python310\\lib\\site-packages\\torch\\storage.py:665: UserWarning: TypedStorage is deprecated. It will be removed in the future and UntypedStorage will be the only storage class. This should only matter to you if you are using storages directly.  To access UntypedStorage directly, use tensor.untyped_storage() instead of tensor.storage()\n",
      "  return super().__sizeof__() + self.nbytes()\n"
     ]
    },
    {
     "data": {
      "text/plain": [
       "======================================================================================================================================================\n",
       "Layer (type (var_name))                                                Input Shape          Output Shape         Param #              Trainable\n",
       "======================================================================================================================================================\n",
       "DeepGCN (DeepGCN)                                                      [32, 3, 224, 224]    [32, 5]              37,632               True\n",
       "├─Stem (stem)                                                          [32, 3, 224, 224]    [32, 192, 14, 14]    --                   True\n",
       "│    └─Sequential (convs)                                              [32, 3, 224, 224]    [32, 192, 14, 14]    --                   True\n",
       "│    │    └─Conv2d (0)                                                 [32, 3, 224, 224]    [32, 24, 112, 112]   672                  True\n",
       "│    │    └─BatchNorm2d (1)                                            [32, 24, 112, 112]   [32, 24, 112, 112]   48                   True\n",
       "│    │    └─GELU (2)                                                   [32, 24, 112, 112]   [32, 24, 112, 112]   --                   --\n",
       "│    │    └─Conv2d (3)                                                 [32, 24, 112, 112]   [32, 48, 56, 56]     10,416               True\n",
       "│    │    └─BatchNorm2d (4)                                            [32, 48, 56, 56]     [32, 48, 56, 56]     96                   True\n",
       "│    │    └─GELU (5)                                                   [32, 48, 56, 56]     [32, 48, 56, 56]     --                   --\n",
       "│    │    └─Conv2d (6)                                                 [32, 48, 56, 56]     [32, 96, 28, 28]     41,568               True\n",
       "│    │    └─BatchNorm2d (7)                                            [32, 96, 28, 28]     [32, 96, 28, 28]     192                  True\n",
       "│    │    └─GELU (8)                                                   [32, 96, 28, 28]     [32, 96, 28, 28]     --                   --\n",
       "│    │    └─Conv2d (9)                                                 [32, 96, 28, 28]     [32, 192, 14, 14]    166,080              True\n",
       "│    │    └─BatchNorm2d (10)                                           [32, 192, 14, 14]    [32, 192, 14, 14]    384                  True\n",
       "│    │    └─GELU (11)                                                  [32, 192, 14, 14]    [32, 192, 14, 14]    --                   --\n",
       "│    │    └─Conv2d (12)                                                [32, 192, 14, 14]    [32, 192, 14, 14]    331,968              True\n",
       "│    │    └─BatchNorm2d (13)                                           [32, 192, 14, 14]    [32, 192, 14, 14]    384                  True\n",
       "├─Sequential (backbone)                                                --                   --                   --                   True\n",
       "│    └─Sequential (0)                                                  [32, 192, 14, 14]    [32, 192, 14, 14]    --                   True\n",
       "│    │    └─Grapher (0)                                                [32, 192, 14, 14]    [32, 192, 14, 14]    149,760              True\n",
       "│    │    └─FFN (1)                                                    [32, 192, 14, 14]    [32, 192, 14, 14]    297,792              True\n",
       "│    └─Sequential (1)                                                  [32, 192, 14, 14]    [32, 192, 14, 14]    --                   True\n",
       "│    │    └─Grapher (0)                                                [32, 192, 14, 14]    [32, 192, 14, 14]    149,760              True\n",
       "│    │    └─FFN (1)                                                    [32, 192, 14, 14]    [32, 192, 14, 14]    297,792              True\n",
       "│    └─Sequential (2)                                                  [32, 192, 14, 14]    [32, 192, 14, 14]    --                   True\n",
       "│    │    └─Grapher (0)                                                [32, 192, 14, 14]    [32, 192, 14, 14]    149,760              True\n",
       "│    │    └─FFN (1)                                                    [32, 192, 14, 14]    [32, 192, 14, 14]    297,792              True\n",
       "│    └─Sequential (3)                                                  [32, 192, 14, 14]    [32, 192, 14, 14]    --                   True\n",
       "│    │    └─Grapher (0)                                                [32, 192, 14, 14]    [32, 192, 14, 14]    149,760              True\n",
       "│    │    └─FFN (1)                                                    [32, 192, 14, 14]    [32, 192, 14, 14]    297,792              True\n",
       "│    └─Sequential (4)                                                  [32, 192, 14, 14]    [32, 192, 14, 14]    --                   True\n",
       "│    │    └─Grapher (0)                                                [32, 192, 14, 14]    [32, 192, 14, 14]    149,760              True\n",
       "│    │    └─FFN (1)                                                    [32, 192, 14, 14]    [32, 192, 14, 14]    297,792              True\n",
       "│    └─Sequential (5)                                                  [32, 192, 14, 14]    [32, 192, 14, 14]    --                   True\n",
       "│    │    └─Grapher (0)                                                [32, 192, 14, 14]    [32, 192, 14, 14]    149,760              True\n",
       "│    │    └─FFN (1)                                                    [32, 192, 14, 14]    [32, 192, 14, 14]    297,792              True\n",
       "│    └─Sequential (6)                                                  [32, 192, 14, 14]    [32, 192, 14, 14]    --                   True\n",
       "│    │    └─Grapher (0)                                                [32, 192, 14, 14]    [32, 192, 14, 14]    149,760              True\n",
       "│    │    └─FFN (1)                                                    [32, 192, 14, 14]    [32, 192, 14, 14]    297,792              True\n",
       "│    └─Sequential (7)                                                  [32, 192, 14, 14]    [32, 192, 14, 14]    --                   True\n",
       "│    │    └─Grapher (0)                                                [32, 192, 14, 14]    [32, 192, 14, 14]    149,760              True\n",
       "│    │    └─FFN (1)                                                    [32, 192, 14, 14]    [32, 192, 14, 14]    297,792              True\n",
       "│    └─Sequential (8)                                                  [32, 192, 14, 14]    [32, 192, 14, 14]    --                   True\n",
       "│    │    └─Grapher (0)                                                [32, 192, 14, 14]    [32, 192, 14, 14]    149,760              True\n",
       "│    │    └─FFN (1)                                                    [32, 192, 14, 14]    [32, 192, 14, 14]    297,792              True\n",
       "│    └─Sequential (9)                                                  [32, 192, 14, 14]    [32, 192, 14, 14]    --                   True\n",
       "│    │    └─Grapher (0)                                                [32, 192, 14, 14]    [32, 192, 14, 14]    149,760              True\n",
       "│    │    └─FFN (1)                                                    [32, 192, 14, 14]    [32, 192, 14, 14]    297,792              True\n",
       "│    └─Sequential (10)                                                 [32, 192, 14, 14]    [32, 192, 14, 14]    --                   True\n",
       "│    │    └─Grapher (0)                                                [32, 192, 14, 14]    [32, 192, 14, 14]    149,760              True\n",
       "│    │    └─FFN (1)                                                    [32, 192, 14, 14]    [32, 192, 14, 14]    297,792              True\n",
       "│    └─Sequential (11)                                                 [32, 192, 14, 14]    [32, 192, 14, 14]    --                   True\n",
       "│    │    └─Grapher (0)                                                [32, 192, 14, 14]    [32, 192, 14, 14]    149,760              True\n",
       "│    │    └─FFN (1)                                                    [32, 192, 14, 14]    [32, 192, 14, 14]    297,792              True\n",
       "├─Sequential (prediction)                                              [32, 192, 1, 1]      [32, 5, 1, 1]        --                   True\n",
       "│    └─Conv2d (0)                                                      [32, 192, 1, 1]      [32, 1024, 1, 1]     197,632              True\n",
       "│    └─BatchNorm2d (1)                                                 [32, 1024, 1, 1]     [32, 1024, 1, 1]     2,048                True\n",
       "│    └─GELU (2)                                                        [32, 1024, 1, 1]     [32, 1024, 1, 1]     --                   --\n",
       "│    └─Dropout (3)                                                     [32, 1024, 1, 1]     [32, 1024, 1, 1]     --                   --\n",
       "│    └─Conv2d (4)                                                      [32, 1024, 1, 1]     [32, 5, 1, 1]        5,125                True\n",
       "======================================================================================================================================================\n",
       "Total params: 6,164,869\n",
       "Trainable params: 6,164,869\n",
       "Non-trainable params: 0\n",
       "Total mult-adds (G): 38.91\n",
       "======================================================================================================================================================\n",
       "Input size (MB): 19.27\n",
       "Forward/backward pass size (MB): 2389.71\n",
       "Params size (MB): 24.51\n",
       "Estimated Total Size (MB): 2433.48\n",
       "======================================================================================================================================================"
      ]
     },
     "execution_count": 30,
     "metadata": {},
     "output_type": "execute_result"
    }
   ],
   "source": [
    "from torchinfo import summary\n",
    "\n",
    "# Create an instance of TransformerEncoderBlock\n",
    "model_summary = model\n",
    "\n",
    "# Print an input and output summary of our Transformer Encoder (uncomment for full output)\n",
    "summary(model=model_summary,\n",
    "        input_size=(32, 3, 224, 224), # (batch_size, num_patches, embedding_dimension)\n",
    "        col_names=[\"input_size\", \"output_size\", \"num_params\", \"trainable\"],\n",
    "        col_width=20,\n",
    "        row_settings=[\"var_names\"])"
   ]
  },
  {
   "cell_type": "code",
   "execution_count": 31,
   "metadata": {},
   "outputs": [
    {
     "name": "stderr",
     "output_type": "stream",
     "text": [
      "Failed to detect the name of this notebook, you can set it manually with the WANDB_NOTEBOOK_NAME environment variable to enable code saving.\n",
      "\u001b[34m\u001b[1mwandb\u001b[0m: Currently logged in as: \u001b[33mshkiam33\u001b[0m. Use \u001b[1m`wandb login --relogin`\u001b[0m to force relogin\n"
     ]
    },
    {
     "data": {
      "application/vnd.jupyter.widget-view+json": {
       "model_id": "ccf408d78ab04a648cfc061d58d95d72",
       "version_major": 2,
       "version_minor": 0
      },
      "text/plain": [
       "VBox(children=(Label(value='Waiting for wandb.init()...\\r'), FloatProgress(value=0.01693333333333271, max=1.0)…"
      ]
     },
     "metadata": {},
     "output_type": "display_data"
    },
    {
     "data": {
      "text/html": [
       "wandb version 0.15.2 is available!  To upgrade, please run:\n",
       " $ pip install wandb --upgrade"
      ],
      "text/plain": [
       "<IPython.core.display.HTML object>"
      ]
     },
     "metadata": {},
     "output_type": "display_data"
    },
    {
     "data": {
      "text/html": [
       "Tracking run with wandb version 0.15.1"
      ],
      "text/plain": [
       "<IPython.core.display.HTML object>"
      ]
     },
     "metadata": {},
     "output_type": "display_data"
    },
    {
     "data": {
      "text/html": [
       "Run data is saved locally in <code>e:\\Documents\\Workspace\\Thesis\\ViG_pytorch\\wandb\\run-20230512_172130-m4odijbq</code>"
      ],
      "text/plain": [
       "<IPython.core.display.HTML object>"
      ]
     },
     "metadata": {},
     "output_type": "display_data"
    },
    {
     "data": {
      "text/html": [
       "Syncing run <strong><a href='https://wandb.ai/shkiam33/ViG_pytorch/runs/m4odijbq' target=\"_blank\">ViG_ti_224_gelu : Dataset - Train19 + Train15 Gaussian Filtered</a></strong> to <a href='https://wandb.ai/shkiam33/ViG_pytorch' target=\"_blank\">Weights & Biases</a> (<a href='https://wandb.me/run' target=\"_blank\">docs</a>)<br/>"
      ],
      "text/plain": [
       "<IPython.core.display.HTML object>"
      ]
     },
     "metadata": {},
     "output_type": "display_data"
    },
    {
     "data": {
      "text/html": [
       " View project at <a href='https://wandb.ai/shkiam33/ViG_pytorch' target=\"_blank\">https://wandb.ai/shkiam33/ViG_pytorch</a>"
      ],
      "text/plain": [
       "<IPython.core.display.HTML object>"
      ]
     },
     "metadata": {},
     "output_type": "display_data"
    },
    {
     "data": {
      "text/html": [
       " View run at <a href='https://wandb.ai/shkiam33/ViG_pytorch/runs/m4odijbq' target=\"_blank\">https://wandb.ai/shkiam33/ViG_pytorch/runs/m4odijbq</a>"
      ],
      "text/plain": [
       "<IPython.core.display.HTML object>"
      ]
     },
     "metadata": {},
     "output_type": "display_data"
    }
   ],
   "source": [
    "import wandb\n",
    "\n",
    "# start a new wandb run to track this script\n",
    "tracking = wandb.init(\n",
    "    # set the wandb project where this run will be logged\n",
    "    project=\"ViG_pytorch\",\n",
    "    name=\"ViG_ti_224_gelu : Dataset - Train19 + Train15 Gaussian Filtered\",\n",
    "    notes=\"\",\n",
    "    # track hyperparameters and run metadata\n",
    "    config={\n",
    "        \"learning_rate\": 2e-3,\n",
    "        \"architecture\": \"ViG_ti_224_gelu\",\n",
    "        \"dataset\": \"Merged \",\n",
    "        \"epochs\": 30,\n",
    "    }\n",
    ")"
   ]
  },
  {
   "cell_type": "code",
   "execution_count": 32,
   "metadata": {},
   "outputs": [
    {
     "data": {
      "application/vnd.jupyter.widget-view+json": {
       "model_id": "614128cf971747d59a8e94fad5d95716",
       "version_major": 2,
       "version_minor": 0
      },
      "text/plain": [
       "  0%|          | 0/20 [00:00<?, ?it/s]"
      ]
     },
     "metadata": {},
     "output_type": "display_data"
    },
    {
     "name": "stdout",
     "output_type": "stream",
     "text": [
      "Epoch: 1 | train_loss: 0.9397 | train_acc: 0.7109 | test_loss: 0.8816 | test_acc: 0.7136\n",
      "Epoch: 2 | train_loss: 0.8477 | train_acc: 0.7258 | test_loss: 0.8190 | test_acc: 0.7310\n",
      "Epoch: 3 | train_loss: 0.8224 | train_acc: 0.7300 | test_loss: 0.8180 | test_acc: 0.7314\n",
      "Epoch: 4 | train_loss: 0.7935 | train_acc: 0.7364 | test_loss: 0.8275 | test_acc: 0.7383\n",
      "Epoch: 5 | train_loss: 0.7654 | train_acc: 0.7441 | test_loss: 0.8023 | test_acc: 0.7404\n",
      "Epoch: 6 | train_loss: 0.7483 | train_acc: 0.7486 | test_loss: 0.7600 | test_acc: 0.7393\n",
      "Epoch: 7 | train_loss: 0.7310 | train_acc: 0.7513 | test_loss: 0.7767 | test_acc: 0.7460\n"
     ]
    }
   ],
   "source": [
    "from going_modular import engine\n",
    "\n",
    "# Setup the optimizer to optimize our ViT model parameters using hyperparameters from the ViT paper \n",
    "optimizer = torch.optim.AdamW(params=model.parameters(), \n",
    "                              lr=2e-3, # Base LR from Table 3 for ViT-* ImageNet-1k\n",
    "                            #   lr = 0.001\n",
    "                              betas=(0.9, 0.999), # default values but also mentioned in ViT paper section 4.1 (Training & Fine-tuning)\n",
    "                              weight_decay=0.05\n",
    "                              ) # from the ViT paper section 4.1 (Training & Fine-tuning) and Table 3 for ViT-* ImageNet-1k\n",
    "\n",
    "# Setup the loss function for multi-class classification\n",
    "loss_fn = torch.nn.CrossEntropyLoss()\n",
    "\n",
    "# Set the seeds\n",
    "set_seeds()\n",
    "\n",
    "# Train the model and save the training results to a dictionary\n",
    "results, y_true_train_data, y_predicted_train_data, y_true_test_data, y_predicted_test_data = engine.train(model=model,\n",
    "                                                                                                                 train_dataloader=train_dataloader,\n",
    "                                                                                                                 test_dataloader=test_dataloader,\n",
    "                                                                                                                 optimizer=optimizer,\n",
    "                                                                                                                 loss_fn=loss_fn,\n",
    "                                                                                                                 epochs=20,\n",
    "                                                                                                                 device=device,\n",
    "                                                                                                                 tracking=tracking)"
   ]
  },
  {
   "cell_type": "code",
   "execution_count": null,
   "metadata": {},
   "outputs": [],
   "source": [
    "# import gc\n",
    "# torch.cuda.empty_cache()\n",
    "# gc.collect()"
   ]
  },
  {
   "attachments": {},
   "cell_type": "markdown",
   "metadata": {},
   "source": [
    "### Evaluations"
   ]
  },
  {
   "cell_type": "code",
   "execution_count": null,
   "metadata": {},
   "outputs": [],
   "source": [
    "# taking \"y_predicted_train_data\" & \"y_true_train_data\" into 1D array because it came out as batch by batch 2D list\n",
    "predicted_train_data_1D = []\n",
    "true_train_data_1D = []\n",
    "\n",
    "for i in range(len(y_predicted_train_data)):\n",
    "    for j in range(len(y_predicted_train_data[i])):\n",
    "        predicted_train_data_1D.append(y_predicted_train_data[i][j])\n",
    "        true_train_data_1D.append(y_true_train_data[i][j])\n",
    "\n",
    "# taking both into CPU\n",
    "predicted_train_data_cpu = torch.tensor(predicted_train_data_1D, device = 'cpu')\n",
    "true_train_data_cpu = torch.tensor(true_train_data_1D, device = 'cpu')\n",
    "\n",
    "\n",
    "\n",
    "# now same procedure for test data's\n",
    "predicted_test_data_1D = []\n",
    "true_test_data_1D = []\n",
    "\n",
    "for i in range(len(y_predicted_test_data)):\n",
    "    for j in range(len(y_predicted_test_data[i])):\n",
    "        predicted_test_data_1D.append(y_predicted_test_data[i][j])\n",
    "        true_test_data_1D.append(y_true_test_data[i][j])\n",
    "\n",
    "# taking both into CPU\n",
    "predicted_test_data_cpu = torch.tensor(predicted_test_data_1D, device = 'cpu')\n",
    "true_test_data_cpu = torch.tensor(true_test_data_1D, device = 'cpu')"
   ]
  },
  {
   "cell_type": "code",
   "execution_count": null,
   "metadata": {},
   "outputs": [
    {
     "name": "stdout",
     "output_type": "stream",
     "text": [
      "Evaluation report on Train data: \n",
      "\n",
      "                precision    recall  f1-score   support\n",
      "\n",
      "       Healthy       1.00      0.99      1.00      1445\n",
      "       Mild_DR       0.94      0.97      0.96       297\n",
      "   Moderate_DR       0.98      0.97      0.98       800\n",
      "Proliferate_DR       0.94      0.94      0.94       237\n",
      "     Severe_DR       0.92      0.93      0.93       155\n",
      "\n",
      "      accuracy                           0.98      2934\n",
      "     macro avg       0.96      0.96      0.96      2934\n",
      "  weighted avg       0.98      0.98      0.98      2934\n",
      "\n",
      "\n",
      "\n",
      "\n",
      "\n",
      "Evaluation report on Test data: \n",
      "\n",
      "                precision    recall  f1-score   support\n",
      "\n",
      "       Healthy       0.97      0.84      0.90       360\n",
      "       Mild_DR       0.00      0.00      0.00        73\n",
      "   Moderate_DR       0.50      0.89      0.64       199\n",
      "Proliferate_DR       0.44      0.07      0.12        58\n",
      "     Severe_DR       0.14      0.18      0.16        38\n",
      "\n",
      "      accuracy                           0.68       728\n",
      "     macro avg       0.41      0.40      0.36       728\n",
      "  weighted avg       0.66      0.68      0.64       728\n",
      "\n"
     ]
    },
    {
     "name": "stderr",
     "output_type": "stream",
     "text": [
      "d:\\Python310\\lib\\site-packages\\sklearn\\metrics\\_classification.py:1318: UndefinedMetricWarning: Precision and F-score are ill-defined and being set to 0.0 in labels with no predicted samples. Use `zero_division` parameter to control this behavior.\n",
      "  _warn_prf(average, modifier, msg_start, len(result))\n",
      "d:\\Python310\\lib\\site-packages\\sklearn\\metrics\\_classification.py:1318: UndefinedMetricWarning: Precision and F-score are ill-defined and being set to 0.0 in labels with no predicted samples. Use `zero_division` parameter to control this behavior.\n",
      "  _warn_prf(average, modifier, msg_start, len(result))\n",
      "d:\\Python310\\lib\\site-packages\\sklearn\\metrics\\_classification.py:1318: UndefinedMetricWarning: Precision and F-score are ill-defined and being set to 0.0 in labels with no predicted samples. Use `zero_division` parameter to control this behavior.\n",
      "  _warn_prf(average, modifier, msg_start, len(result))\n"
     ]
    }
   ],
   "source": [
    "from sklearn.metrics import classification_report\n",
    "\n",
    "# Generate a classification report\n",
    "\n",
    "y_true = true_train_data_cpu\n",
    "y_pred = predicted_train_data_cpu\n",
    "\n",
    "report = classification_report(y_true, y_pred, target_names=class_names)\n",
    "\n",
    "print(f\"Evaluation report on Train data: \\n\\n{report}\\n\\n\\n\\n\")\n",
    "\n",
    "\n",
    "\n",
    "y_true = true_test_data_cpu\n",
    "y_pred = predicted_test_data_cpu\n",
    "\n",
    "report = classification_report(y_true, y_pred, target_names=class_names)\n",
    "\n",
    "print(f\"Evaluation report on Test data: \\n\\n{report}\")"
   ]
  },
  {
   "cell_type": "code",
   "execution_count": null,
   "metadata": {},
   "outputs": [
    {
     "data": {
      "text/plain": [
       "tensor(0.5004)"
      ]
     },
     "execution_count": 36,
     "metadata": {},
     "output_type": "execute_result"
    }
   ],
   "source": [
    "from torchmetrics.classification import MulticlassCohenKappa\n",
    "target = y_true\n",
    "preds = y_pred\n",
    "metric = MulticlassCohenKappa(num_classes=5)\n",
    "metric(preds, target)"
   ]
  },
  {
   "cell_type": "code",
   "execution_count": null,
   "metadata": {},
   "outputs": [
    {
     "data": {
      "image/png": "[encoded data removed]",
      "text/plain": [
       "<Figure size 720x504 with 1 Axes>"
      ]
     },
     "metadata": {
      "needs_background": "light"
     },
     "output_type": "display_data"
    }
   ],
   "source": [
    "from torchmetrics import ConfusionMatrix\n",
    "from mlxtend.plotting import plot_confusion_matrix\n",
    "\n",
    "# 2. Setup confusion matrix instance and compare predictions to targets\n",
    "confmat = ConfusionMatrix(num_classes=len(class_names), task='multiclass')\n",
    "confmat_tensor = confmat(preds=y_pred,\n",
    "                         target=y_true)\n",
    "\n",
    "# 3. Plot the confusion matrix\n",
    "fig, ax = plot_confusion_matrix(\n",
    "    conf_mat=confmat_tensor.numpy(), # matplotlib likes working with NumPy \n",
    "    class_names=class_names, # turn the row and column labels into class names\n",
    "    figsize=(10, 7)\n",
    ");"
   ]
  },
  {
   "cell_type": "code",
   "execution_count": null,
   "metadata": {},
   "outputs": [
    {
     "data": {
      "image/png": "[encoded data removed]",
      "text/plain": [
       "<Figure size 1080x504 with 2 Axes>"
      ]
     },
     "metadata": {
      "needs_background": "light"
     },
     "output_type": "display_data"
    }
   ],
   "source": [
    "# Get the plot_loss_curves() function from helper_functions.py, download the file if we don't have it\n",
    "try:\n",
    "    from going_modular.helper_functions import plot_loss_curves\n",
    "except:\n",
    "    print(\"[INFO] Couldn't find helper_functions.py, downloading...\")\n",
    "    # with open(\"helper_functions.py\", \"wb\") as f:\n",
    "    #     import requests\n",
    "    #     request = requests.get(\"https://raw.githubusercontent.com/mrdbourke/pytorch-deep-learning/main/helper_functions.py\")\n",
    "    #     f.write(request.content)\n",
    "    # from helper_functions import plot_loss_curves\n",
    "\n",
    "# Plot the loss curves of our model\n",
    "plot_loss_curves(results)"
   ]
  },
  {
   "cell_type": "code",
   "execution_count": null,
   "metadata": {},
   "outputs": [],
   "source": []
  }
 ],
 "metadata": {
  "kernelspec": {
   "display_name": "Python 3",
   "language": "python",
   "name": "python3"
  },
  "language_info": {
   "codemirror_mode": {
    "name": "ipython",
    "version": 3
   },
   "file_extension": ".py",
   "mimetype": "text/x-python",
   "name": "python",
   "nbconvert_exporter": "python",
   "pygments_lexer": "ipython3",
   "version": "3.10.4"
  },
  "orig_nbformat": 4
 },
 "nbformat": 4,
 "nbformat_minor": 2
}
