{
 "cells": [
  {
   "cell_type": "code",
   "execution_count": 1,
   "metadata": {},
   "outputs": [],
   "source": [
    "import pandas as pd\n",
    "import cv2\n",
    "import os\n",
    "\n",
    "from tqdm.notebook import tqdm"
   ]
  },
  {
   "attachments": {},
   "cell_type": "markdown",
   "metadata": {},
   "source": [
    "### Train Lebel 15"
   ]
  },
  {
   "cell_type": "code",
   "execution_count": 2,
   "metadata": {},
   "outputs": [],
   "source": [
    "file = pd.read_csv('../Datasets/Retinal_image_Aptos_Eyepacs/trainLabels15.csv')"
   ]
  },
  {
   "cell_type": "code",
   "execution_count": 3,
   "metadata": {},
   "outputs": [
    {
     "data": {
      "text/html": [
       "<div>\n",
       "<style scoped>\n",
       "    .dataframe tbody tr th:only-of-type {\n",
       "        vertical-align: middle;\n",
       "    }\n",
       "\n",
       "    .dataframe tbody tr th {\n",
       "        vertical-align: top;\n",
       "    }\n",
       "\n",
       "    .dataframe thead th {\n",
       "        text-align: right;\n",
       "    }\n",
       "</style>\n",
       "<table border=\"1\" class=\"dataframe\">\n",
       "  <thead>\n",
       "    <tr style=\"text-align: right;\">\n",
       "      <th></th>\n",
       "      <th>image</th>\n",
       "      <th>level</th>\n",
       "    </tr>\n",
       "  </thead>\n",
       "  <tbody>\n",
       "    <tr>\n",
       "      <th>0</th>\n",
       "      <td>10_left</td>\n",
       "      <td>0</td>\n",
       "    </tr>\n",
       "    <tr>\n",
       "      <th>1</th>\n",
       "      <td>10_right</td>\n",
       "      <td>0</td>\n",
       "    </tr>\n",
       "    <tr>\n",
       "      <th>2</th>\n",
       "      <td>13_left</td>\n",
       "      <td>0</td>\n",
       "    </tr>\n",
       "    <tr>\n",
       "      <th>3</th>\n",
       "      <td>13_right</td>\n",
       "      <td>0</td>\n",
       "    </tr>\n",
       "    <tr>\n",
       "      <th>4</th>\n",
       "      <td>15_left</td>\n",
       "      <td>1</td>\n",
       "    </tr>\n",
       "  </tbody>\n",
       "</table>\n",
       "</div>"
      ],
      "text/plain": [
       "      image  level\n",
       "0   10_left      0\n",
       "1  10_right      0\n",
       "2   13_left      0\n",
       "3  13_right      0\n",
       "4   15_left      1"
      ]
     },
     "execution_count": 3,
     "metadata": {},
     "output_type": "execute_result"
    }
   ],
   "source": [
    "file.head()"
   ]
  },
  {
   "cell_type": "code",
   "execution_count": 4,
   "metadata": {},
   "outputs": [],
   "source": [
    "no_dr = 'No_DR/'\n",
    "mild = 'Mild/'\n",
    "moderate = 'Moderate/'\n",
    "severe = 'Severe/'\n",
    "proliferate_dr = 'Proliferate_DR/'"
   ]
  },
  {
   "cell_type": "code",
   "execution_count": 5,
   "metadata": {},
   "outputs": [
    {
     "name": "stdout",
     "output_type": "stream",
     "text": [
      "0    0\n",
      "1    0\n",
      "2    0\n",
      "3    0\n",
      "4    1\n",
      "Name: level, dtype: int64\n",
      "0    25810\n",
      "2     5292\n",
      "1     2443\n",
      "3      873\n",
      "4      708\n",
      "Name: level, dtype: int64 <class 'pandas.core.series.Series'>\n"
     ]
    }
   ],
   "source": [
    "train_y = file['level']\n",
    "print(train_y.head())\n",
    "# get the number of images per category\n",
    "num_img_by_cat = (train_y.value_counts())\n",
    "print(num_img_by_cat, type(num_img_by_cat))"
   ]
  },
  {
   "cell_type": "code",
   "execution_count": 11,
   "metadata": {},
   "outputs": [],
   "source": [
    "# gaussian filtering constants\n",
    "sigmaX = 10"
   ]
  },
  {
   "cell_type": "code",
   "execution_count": 17,
   "metadata": {},
   "outputs": [
    {
     "data": {
      "application/vnd.jupyter.widget-view+json": {
       "model_id": "6cd112afa6194a3a8eb320a4bf771131",
       "version_major": 2,
       "version_minor": 0
      },
      "text/plain": [
       "  0%|          | 0/5 [00:00<?, ?it/s]"
      ]
     },
     "metadata": {},
     "output_type": "display_data"
    },
    {
     "name": "stdout",
     "output_type": "stream",
     "text": [
      "class 0\n"
     ]
    },
    {
     "data": {
      "application/vnd.jupyter.widget-view+json": {
       "model_id": "ae4c1bf987ff488cb1759eef7ef8114c",
       "version_major": 2,
       "version_minor": 0
      },
      "text/plain": [
       "0it [00:00, ?it/s]"
      ]
     },
     "metadata": {},
     "output_type": "display_data"
    },
    {
     "name": "stdout",
     "output_type": "stream",
     "text": [
      "class 1\n"
     ]
    },
    {
     "data": {
      "application/vnd.jupyter.widget-view+json": {
       "model_id": "6d9121e4fa5645b88bbfffa23f85d60c",
       "version_major": 2,
       "version_minor": 0
      },
      "text/plain": [
       "0it [00:00, ?it/s]"
      ]
     },
     "metadata": {},
     "output_type": "display_data"
    },
    {
     "name": "stdout",
     "output_type": "stream",
     "text": [
      "class 2\n"
     ]
    },
    {
     "data": {
      "application/vnd.jupyter.widget-view+json": {
       "model_id": "ee96e25dfab840689db88b4cf8ed060a",
       "version_major": 2,
       "version_minor": 0
      },
      "text/plain": [
       "0it [00:00, ?it/s]"
      ]
     },
     "metadata": {},
     "output_type": "display_data"
    },
    {
     "name": "stdout",
     "output_type": "stream",
     "text": [
      "class 3\n"
     ]
    },
    {
     "data": {
      "application/vnd.jupyter.widget-view+json": {
       "model_id": "5a6448a49a2e4297958ed8746a19202c",
       "version_major": 2,
       "version_minor": 0
      },
      "text/plain": [
       "0it [00:00, ?it/s]"
      ]
     },
     "metadata": {},
     "output_type": "display_data"
    },
    {
     "name": "stdout",
     "output_type": "stream",
     "text": [
      "class 4\n"
     ]
    },
    {
     "data": {
      "application/vnd.jupyter.widget-view+json": {
       "model_id": "f24322f790104ffa817b802220c8d142",
       "version_major": 2,
       "version_minor": 0
      },
      "text/plain": [
       "0it [00:00, ?it/s]"
      ]
     },
     "metadata": {},
     "output_type": "display_data"
    }
   ],
   "source": [
    "for class_id in tqdm(sorted(train_y.unique())):\n",
    "    if class_id == 0:\n",
    "        print(\"class 0\")\n",
    "        for i, (idx, row) in tqdm(enumerate(file.loc[file['level'] == class_id].sample(num_img_by_cat[0],).iterrows())):\n",
    "            read_path = f\"../Datasets/Retinal_image_Aptos_Eyepacs/resized train 15/{row['image']}.jpg\"\n",
    "            write_path = '../Datasets/Retinal_image_Aptos_Eyepacs/resized_train_15_gaussian_filtered_images/Healthy/'+row['image']+'.jpg'\n",
    "            image = cv2.imread(read_path)\n",
    "            gaussian = cv2.addWeighted(image, 4, cv2.GaussianBlur(image, (0,0), sigmaX), -4, 128)\n",
    "            gaussian = cv2.resize(gaussian, (224, 224))\n",
    "            cv2.imwrite(write_path, gaussian)\n",
    "    \n",
    "    if class_id == 1:\n",
    "        print(\"class 1\")\n",
    "        for i, (idx, row) in tqdm(enumerate(file.loc[file['level'] == class_id].sample(num_img_by_cat[1],).iterrows())):\n",
    "            read_path = f\"../Datasets/Retinal_image_Aptos_Eyepacs/resized train 15/{row['image']}.jpg\"\n",
    "            write_path = '../Datasets/Retinal_image_Aptos_Eyepacs/resized_train_15_gaussian_filtered_images/Mild_DR/'+row['image']+'.jpg'\n",
    "            image = cv2.imread(read_path)\n",
    "            gaussian = cv2.addWeighted(image, 4, cv2.GaussianBlur(image, (0,0), sigmaX), -4, 128)\n",
    "            gaussian = cv2.resize(gaussian, (224, 224))\n",
    "            cv2.imwrite(write_path, gaussian)\n",
    "            \n",
    "    if class_id == 2:     \n",
    "        print(\"class 2\")   \n",
    "        for i, (idx, row) in tqdm(enumerate(file.loc[file['level'] == class_id].sample(num_img_by_cat[2],).iterrows())):\n",
    "            read_path = f\"../Datasets/Retinal_image_Aptos_Eyepacs/resized train 15/{row['image']}.jpg\"\n",
    "            write_path = '../Datasets/Retinal_image_Aptos_Eyepacs/resized_train_15_gaussian_filtered_images/Moderate_DR/'+row['image']+'.jpg'\n",
    "            image = cv2.imread(read_path)\n",
    "            gaussian = cv2.addWeighted(image, 4, cv2.GaussianBlur(image, (0,0), sigmaX), -4, 128)\n",
    "            gaussian = cv2.resize(gaussian, (224, 224))\n",
    "            cv2.imwrite(write_path, gaussian)\n",
    "    \n",
    "    if class_id == 3:\n",
    "        print(\"class 3\")\n",
    "        for i, (idx, row) in tqdm(enumerate(file.loc[file['level'] == class_id].sample(num_img_by_cat[3],).iterrows())):\n",
    "            read_path = f\"../Datasets/Retinal_image_Aptos_Eyepacs/resized train 15/{row['image']}.jpg\"\n",
    "            write_path = '../Datasets/Retinal_image_Aptos_Eyepacs/resized_train_15_gaussian_filtered_images/Severe_DR/'+row['image']+'.jpg'\n",
    "            image = cv2.imread(read_path)\n",
    "            gaussian = cv2.addWeighted(image, 4, cv2.GaussianBlur(image, (0,0), sigmaX), -4, 128)\n",
    "            gaussian = cv2.resize(gaussian, (224, 224))\n",
    "            cv2.imwrite(write_path, gaussian)\n",
    "        \n",
    "    if class_id == 4:    \n",
    "        print(\"class 4\")\n",
    "        for i, (idx, row) in tqdm(enumerate(file.loc[file['level'] == class_id].sample(num_img_by_cat[4],).iterrows())):\n",
    "            read_path = f\"../Datasets/Retinal_image_Aptos_Eyepacs/resized train 15/{row['image']}.jpg\"\n",
    "            write_path = '../Datasets/Retinal_image_Aptos_Eyepacs/resized_train_15_gaussian_filtered_images/Proliferate_DR/'+row['image']+'.jpg'\n",
    "            image = cv2.imread(read_path)\n",
    "            gaussian = cv2.addWeighted(image, 4, cv2.GaussianBlur(image, (0,0), sigmaX), -4, 128)\n",
    "            gaussian = cv2.resize(gaussian, (224, 224))\n",
    "            cv2.imwrite(write_path, gaussian)\n"
   ]
  },
  {
   "attachments": {},
   "cell_type": "markdown",
   "metadata": {},
   "source": [
    "### Train Lebel 19"
   ]
  },
  {
   "cell_type": "code",
   "execution_count": 18,
   "metadata": {},
   "outputs": [],
   "source": [
    "file = pd.read_csv('../Datasets/Retinal_image_Aptos_Eyepacs/trainLabels19.csv')"
   ]
  },
  {
   "cell_type": "code",
   "execution_count": 19,
   "metadata": {},
   "outputs": [
    {
     "data": {
      "text/html": [
       "<div>\n",
       "<style scoped>\n",
       "    .dataframe tbody tr th:only-of-type {\n",
       "        vertical-align: middle;\n",
       "    }\n",
       "\n",
       "    .dataframe tbody tr th {\n",
       "        vertical-align: top;\n",
       "    }\n",
       "\n",
       "    .dataframe thead th {\n",
       "        text-align: right;\n",
       "    }\n",
       "</style>\n",
       "<table border=\"1\" class=\"dataframe\">\n",
       "  <thead>\n",
       "    <tr style=\"text-align: right;\">\n",
       "      <th></th>\n",
       "      <th>id_code</th>\n",
       "      <th>diagnosis</th>\n",
       "    </tr>\n",
       "  </thead>\n",
       "  <tbody>\n",
       "    <tr>\n",
       "      <th>0</th>\n",
       "      <td>000c1434d8d7</td>\n",
       "      <td>2</td>\n",
       "    </tr>\n",
       "    <tr>\n",
       "      <th>1</th>\n",
       "      <td>001639a390f0</td>\n",
       "      <td>4</td>\n",
       "    </tr>\n",
       "    <tr>\n",
       "      <th>2</th>\n",
       "      <td>0024cdab0c1e</td>\n",
       "      <td>1</td>\n",
       "    </tr>\n",
       "    <tr>\n",
       "      <th>3</th>\n",
       "      <td>002c21358ce6</td>\n",
       "      <td>0</td>\n",
       "    </tr>\n",
       "    <tr>\n",
       "      <th>4</th>\n",
       "      <td>005b95c28852</td>\n",
       "      <td>0</td>\n",
       "    </tr>\n",
       "  </tbody>\n",
       "</table>\n",
       "</div>"
      ],
      "text/plain": [
       "        id_code  diagnosis\n",
       "0  000c1434d8d7          2\n",
       "1  001639a390f0          4\n",
       "2  0024cdab0c1e          1\n",
       "3  002c21358ce6          0\n",
       "4  005b95c28852          0"
      ]
     },
     "execution_count": 19,
     "metadata": {},
     "output_type": "execute_result"
    }
   ],
   "source": [
    "file.head()"
   ]
  },
  {
   "cell_type": "code",
   "execution_count": 21,
   "metadata": {},
   "outputs": [
    {
     "name": "stdout",
     "output_type": "stream",
     "text": [
      "0    2\n",
      "1    4\n",
      "2    1\n",
      "3    0\n",
      "4    0\n",
      "Name: diagnosis, dtype: int64\n",
      "0    1805\n",
      "2     999\n",
      "1     370\n",
      "4     295\n",
      "3     193\n",
      "Name: diagnosis, dtype: int64 <class 'pandas.core.series.Series'>\n"
     ]
    }
   ],
   "source": [
    "train_y = file['diagnosis']\n",
    "print(train_y.head())\n",
    "# get the number of images per category\n",
    "num_img_by_cat = (train_y.value_counts())\n",
    "print(num_img_by_cat, type(num_img_by_cat))"
   ]
  },
  {
   "cell_type": "code",
   "execution_count": 22,
   "metadata": {},
   "outputs": [],
   "source": [
    "# gaussian filtering constants\n",
    "sigmaX = 10"
   ]
  },
  {
   "cell_type": "code",
   "execution_count": 25,
   "metadata": {},
   "outputs": [
    {
     "data": {
      "application/vnd.jupyter.widget-view+json": {
       "model_id": "33393465ac40441ba49aaa40287ae761",
       "version_major": 2,
       "version_minor": 0
      },
      "text/plain": [
       "  0%|          | 0/5 [00:00<?, ?it/s]"
      ]
     },
     "metadata": {},
     "output_type": "display_data"
    },
    {
     "name": "stdout",
     "output_type": "stream",
     "text": [
      "class 3\n"
     ]
    },
    {
     "data": {
      "application/vnd.jupyter.widget-view+json": {
       "model_id": "fb12a34d0116415a93eb94f782094b1d",
       "version_major": 2,
       "version_minor": 0
      },
      "text/plain": [
       "0it [00:00, ?it/s]"
      ]
     },
     "metadata": {},
     "output_type": "display_data"
    },
    {
     "name": "stdout",
     "output_type": "stream",
     "text": [
      "class 4\n"
     ]
    },
    {
     "data": {
      "application/vnd.jupyter.widget-view+json": {
       "model_id": "6ed7ad54fa6f4722900409459ace4a23",
       "version_major": 2,
       "version_minor": 0
      },
      "text/plain": [
       "0it [00:00, ?it/s]"
      ]
     },
     "metadata": {},
     "output_type": "display_data"
    }
   ],
   "source": [
    "for class_id in tqdm(sorted(train_y.unique())):\n",
    "    if class_id == 0:\n",
    "        print(\"class 0\")\n",
    "        for i, (idx, row) in tqdm(enumerate(file.loc[file['diagnosis'] == class_id].sample(num_img_by_cat[0],).iterrows())):\n",
    "            read_path = f\"../Datasets/Retinal_image_Aptos_Eyepacs/resized train 19/{row['id_code']}.jpg\"\n",
    "            write_path = '../Datasets/Retinal_image_Aptos_Eyepacs/resized_train_19_gaussian_filtered_images/Healthy/'+row['id_code']+'.jpg'\n",
    "            image = cv2.imread(read_path)\n",
    "            gaussian = cv2.addWeighted(image, 4, cv2.GaussianBlur(image, (0,0), sigmaX), -4, 128)\n",
    "            gaussian = cv2.resize(gaussian, (224, 224))\n",
    "            cv2.imwrite(write_path, gaussian)\n",
    "    \n",
    "    if class_id == 1:\n",
    "        print(\"class 1\")\n",
    "        for i, (idx, row) in tqdm(enumerate(file.loc[file['diagnosis'] == class_id].sample(num_img_by_cat[1],).iterrows())):\n",
    "            read_path = f\"../Datasets/Retinal_image_Aptos_Eyepacs/resized train 19/{row['id_code']}.jpg\"\n",
    "            write_path = '../Datasets/Retinal_image_Aptos_Eyepacs/resized_train_19_gaussian_filtered_images/Mild_DR/'+row['id_code']+'.jpg'\n",
    "            image = cv2.imread(read_path)\n",
    "            gaussian = cv2.addWeighted(image, 4, cv2.GaussianBlur(image, (0,0), sigmaX), -4, 128)\n",
    "            gaussian = cv2.resize(gaussian, (224, 224))\n",
    "            cv2.imwrite(write_path, gaussian)\n",
    "            \n",
    "    if class_id == 2:     \n",
    "        print(\"class 2\")   \n",
    "        for i, (idx, row) in tqdm(enumerate(file.loc[file['diagnosis'] == class_id].sample(num_img_by_cat[2],).iterrows())):\n",
    "            read_path = f\"../Datasets/Retinal_image_Aptos_Eyepacs/resized train 19/{row['id_code']}.jpg\"\n",
    "            write_path = '../Datasets/Retinal_image_Aptos_Eyepacs/resized_train_19_gaussian_filtered_images/Moderate_DR/'+row['id_code']+'.jpg'\n",
    "            image = cv2.imread(read_path)\n",
    "            gaussian = cv2.addWeighted(image, 4, cv2.GaussianBlur(image, (0,0), sigmaX), -4, 128)\n",
    "            gaussian = cv2.resize(gaussian, (224, 224))\n",
    "            cv2.imwrite(write_path, gaussian)\n",
    "    \n",
    "    if class_id == 3:\n",
    "        print(\"class 3\")\n",
    "        for i, (idx, row) in tqdm(enumerate(file.loc[file['diagnosis'] == class_id].sample(num_img_by_cat[3],).iterrows())):\n",
    "            read_path = f\"../Datasets/Retinal_image_Aptos_Eyepacs/resized train 19/{row['id_code']}.jpg\"\n",
    "            write_path = '../Datasets/Retinal_image_Aptos_Eyepacs/resized_train_19_gaussian_filtered_images/Severe_DR/'+row['id_code']+'.jpg'\n",
    "            image = cv2.imread(read_path)\n",
    "            gaussian = cv2.addWeighted(image, 4, cv2.GaussianBlur(image, (0,0), sigmaX), -4, 128)\n",
    "            gaussian = cv2.resize(gaussian, (224, 224))\n",
    "            cv2.imwrite(write_path, gaussian)\n",
    "        \n",
    "    if class_id == 4:    \n",
    "        print(\"class 4\")\n",
    "        for i, (idx, row) in tqdm(enumerate(file.loc[file['diagnosis'] == class_id].sample(num_img_by_cat[4],).iterrows())):\n",
    "            read_path = f\"../Datasets/Retinal_image_Aptos_Eyepacs/resized train 19/{row['id_code']}.jpg\"\n",
    "            write_path = '../Datasets/Retinal_image_Aptos_Eyepacs/resized_train_19_gaussian_filtered_images/Proliferate_DR/'+row['id_code']+'.jpg'\n",
    "            image = cv2.imread(read_path)\n",
    "            gaussian = cv2.addWeighted(image, 4, cv2.GaussianBlur(image, (0,0), sigmaX), -4, 128)\n",
    "            gaussian = cv2.resize(gaussian, (224, 224))\n",
    "            cv2.imwrite(write_path, gaussian)\n"
   ]
  },
  {
   "attachments": {},
   "cell_type": "markdown",
   "metadata": {},
   "source": [
    "### Test Lebel 15"
   ]
  },
  {
   "cell_type": "code",
   "execution_count": 26,
   "metadata": {},
   "outputs": [],
   "source": [
    "file = pd.read_csv('../Datasets/Retinal_image_Aptos_Eyepacs/testLabels15.csv')"
   ]
  },
  {
   "cell_type": "code",
   "execution_count": 27,
   "metadata": {},
   "outputs": [
    {
     "data": {
      "text/html": [
       "<div>\n",
       "<style scoped>\n",
       "    .dataframe tbody tr th:only-of-type {\n",
       "        vertical-align: middle;\n",
       "    }\n",
       "\n",
       "    .dataframe tbody tr th {\n",
       "        vertical-align: top;\n",
       "    }\n",
       "\n",
       "    .dataframe thead th {\n",
       "        text-align: right;\n",
       "    }\n",
       "</style>\n",
       "<table border=\"1\" class=\"dataframe\">\n",
       "  <thead>\n",
       "    <tr style=\"text-align: right;\">\n",
       "      <th></th>\n",
       "      <th>image</th>\n",
       "      <th>level</th>\n",
       "      <th>Usage</th>\n",
       "    </tr>\n",
       "  </thead>\n",
       "  <tbody>\n",
       "    <tr>\n",
       "      <th>0</th>\n",
       "      <td>1_left</td>\n",
       "      <td>0</td>\n",
       "      <td>Private</td>\n",
       "    </tr>\n",
       "    <tr>\n",
       "      <th>1</th>\n",
       "      <td>1_right</td>\n",
       "      <td>0</td>\n",
       "      <td>Private</td>\n",
       "    </tr>\n",
       "    <tr>\n",
       "      <th>2</th>\n",
       "      <td>2_left</td>\n",
       "      <td>0</td>\n",
       "      <td>Public</td>\n",
       "    </tr>\n",
       "    <tr>\n",
       "      <th>3</th>\n",
       "      <td>2_right</td>\n",
       "      <td>0</td>\n",
       "      <td>Public</td>\n",
       "    </tr>\n",
       "    <tr>\n",
       "      <th>4</th>\n",
       "      <td>3_left</td>\n",
       "      <td>2</td>\n",
       "      <td>Private</td>\n",
       "    </tr>\n",
       "  </tbody>\n",
       "</table>\n",
       "</div>"
      ],
      "text/plain": [
       "     image  level    Usage\n",
       "0   1_left      0  Private\n",
       "1  1_right      0  Private\n",
       "2   2_left      0   Public\n",
       "3  2_right      0   Public\n",
       "4   3_left      2  Private"
      ]
     },
     "execution_count": 27,
     "metadata": {},
     "output_type": "execute_result"
    }
   ],
   "source": [
    "file.head()"
   ]
  },
  {
   "cell_type": "code",
   "execution_count": 28,
   "metadata": {},
   "outputs": [
    {
     "name": "stdout",
     "output_type": "stream",
     "text": [
      "0    0\n",
      "1    0\n",
      "2    0\n",
      "3    0\n",
      "4    2\n",
      "Name: level, dtype: int64\n",
      "0    39533\n",
      "2     7861\n",
      "1     3762\n",
      "3     1214\n",
      "4     1206\n",
      "Name: level, dtype: int64 <class 'pandas.core.series.Series'>\n"
     ]
    }
   ],
   "source": [
    "train_y = file['level']\n",
    "print(train_y.head())\n",
    "# get the number of images per category\n",
    "num_img_by_cat = (train_y.value_counts())\n",
    "print(num_img_by_cat, type(num_img_by_cat))"
   ]
  },
  {
   "cell_type": "code",
   "execution_count": 29,
   "metadata": {},
   "outputs": [],
   "source": [
    "# gaussian filtering constants\n",
    "sigmaX = 10"
   ]
  },
  {
   "cell_type": "code",
   "execution_count": 30,
   "metadata": {},
   "outputs": [
    {
     "data": {
      "application/vnd.jupyter.widget-view+json": {
       "model_id": "7dd7ecfa2dea40c1ae92fa5941321340",
       "version_major": 2,
       "version_minor": 0
      },
      "text/plain": [
       "  0%|          | 0/5 [00:00<?, ?it/s]"
      ]
     },
     "metadata": {},
     "output_type": "display_data"
    },
    {
     "name": "stdout",
     "output_type": "stream",
     "text": [
      "class 0\n"
     ]
    },
    {
     "data": {
      "application/vnd.jupyter.widget-view+json": {
       "model_id": "f6d26be4cca0422cb50eb6d8c51f20a8",
       "version_major": 2,
       "version_minor": 0
      },
      "text/plain": [
       "0it [00:00, ?it/s]"
      ]
     },
     "metadata": {},
     "output_type": "display_data"
    },
    {
     "name": "stdout",
     "output_type": "stream",
     "text": [
      "class 1\n"
     ]
    },
    {
     "data": {
      "application/vnd.jupyter.widget-view+json": {
       "model_id": "594c21a024c04de8907a36d607826092",
       "version_major": 2,
       "version_minor": 0
      },
      "text/plain": [
       "0it [00:00, ?it/s]"
      ]
     },
     "metadata": {},
     "output_type": "display_data"
    },
    {
     "name": "stdout",
     "output_type": "stream",
     "text": [
      "class 2\n"
     ]
    },
    {
     "data": {
      "application/vnd.jupyter.widget-view+json": {
       "model_id": "513dd28d9bbb46eba4f006cd62cf5658",
       "version_major": 2,
       "version_minor": 0
      },
      "text/plain": [
       "0it [00:00, ?it/s]"
      ]
     },
     "metadata": {},
     "output_type": "display_data"
    },
    {
     "name": "stdout",
     "output_type": "stream",
     "text": [
      "class 3\n"
     ]
    },
    {
     "data": {
      "application/vnd.jupyter.widget-view+json": {
       "model_id": "9bdd472fedcc4d5b80eb7279ebf607df",
       "version_major": 2,
       "version_minor": 0
      },
      "text/plain": [
       "0it [00:00, ?it/s]"
      ]
     },
     "metadata": {},
     "output_type": "display_data"
    },
    {
     "name": "stdout",
     "output_type": "stream",
     "text": [
      "class 4\n"
     ]
    },
    {
     "data": {
      "application/vnd.jupyter.widget-view+json": {
       "model_id": "402b4422e5fc4c90ab4136136abe3439",
       "version_major": 2,
       "version_minor": 0
      },
      "text/plain": [
       "0it [00:00, ?it/s]"
      ]
     },
     "metadata": {},
     "output_type": "display_data"
    }
   ],
   "source": [
    "for class_id in tqdm(sorted(train_y.unique())):\n",
    "    if class_id == 0:\n",
    "        print(\"class 0\")\n",
    "        for i, (idx, row) in tqdm(enumerate(file.loc[file['level'] == class_id].sample(num_img_by_cat[0],).iterrows())):\n",
    "            read_path = f\"../Datasets/Retinal_image_Aptos_Eyepacs/resized test 15/{row['image']}.jpg\"\n",
    "            write_path = '../Datasets/Retinal_image_Aptos_Eyepacs/resized_test_15_gaussian_filtered_images/Healthy/'+row['image']+'.jpg'\n",
    "            image = cv2.imread(read_path)\n",
    "            gaussian = cv2.addWeighted(image, 4, cv2.GaussianBlur(image, (0,0), sigmaX), -4, 128)\n",
    "            gaussian = cv2.resize(gaussian, (224, 224))\n",
    "            cv2.imwrite(write_path, gaussian)\n",
    "    \n",
    "    if class_id == 1:\n",
    "        print(\"class 1\")\n",
    "        for i, (idx, row) in tqdm(enumerate(file.loc[file['level'] == class_id].sample(num_img_by_cat[1],).iterrows())):\n",
    "            read_path = f\"../Datasets/Retinal_image_Aptos_Eyepacs/resized test 15/{row['image']}.jpg\"\n",
    "            write_path = '../Datasets/Retinal_image_Aptos_Eyepacs/resized_test_15_gaussian_filtered_images/Mild_DR/'+row['image']+'.jpg'\n",
    "            image = cv2.imread(read_path)\n",
    "            gaussian = cv2.addWeighted(image, 4, cv2.GaussianBlur(image, (0,0), sigmaX), -4, 128)\n",
    "            gaussian = cv2.resize(gaussian, (224, 224))\n",
    "            cv2.imwrite(write_path, gaussian)\n",
    "            \n",
    "    if class_id == 2:     \n",
    "        print(\"class 2\")   \n",
    "        for i, (idx, row) in tqdm(enumerate(file.loc[file['level'] == class_id].sample(num_img_by_cat[2],).iterrows())):\n",
    "            read_path = f\"../Datasets/Retinal_image_Aptos_Eyepacs/resized test 15/{row['image']}.jpg\"\n",
    "            write_path = '../Datasets/Retinal_image_Aptos_Eyepacs/resized_test_15_gaussian_filtered_images/Moderate_DR/'+row['image']+'.jpg'\n",
    "            image = cv2.imread(read_path)\n",
    "            gaussian = cv2.addWeighted(image, 4, cv2.GaussianBlur(image, (0,0), sigmaX), -4, 128)\n",
    "            gaussian = cv2.resize(gaussian, (224, 224))\n",
    "            cv2.imwrite(write_path, gaussian)\n",
    "    \n",
    "    if class_id == 3:\n",
    "        print(\"class 3\")\n",
    "        for i, (idx, row) in tqdm(enumerate(file.loc[file['level'] == class_id].sample(num_img_by_cat[3],).iterrows())):\n",
    "            read_path = f\"../Datasets/Retinal_image_Aptos_Eyepacs/resized test 15/{row['image']}.jpg\"\n",
    "            write_path = '../Datasets/Retinal_image_Aptos_Eyepacs/resized_test_15_gaussian_filtered_images/Severe_DR/'+row['image']+'.jpg'\n",
    "            image = cv2.imread(read_path)\n",
    "            gaussian = cv2.addWeighted(image, 4, cv2.GaussianBlur(image, (0,0), sigmaX), -4, 128)\n",
    "            gaussian = cv2.resize(gaussian, (224, 224))\n",
    "            cv2.imwrite(write_path, gaussian)\n",
    "        \n",
    "    if class_id == 4:    \n",
    "        print(\"class 4\")\n",
    "        for i, (idx, row) in tqdm(enumerate(file.loc[file['level'] == class_id].sample(num_img_by_cat[4],).iterrows())):\n",
    "            read_path = f\"../Datasets/Retinal_image_Aptos_Eyepacs/resized test 15/{row['image']}.jpg\"\n",
    "            write_path = '../Datasets/Retinal_image_Aptos_Eyepacs/resized_test_15_gaussian_filtered_images/Proliferate_DR/'+row['image']+'.jpg'\n",
    "            image = cv2.imread(read_path)\n",
    "            gaussian = cv2.addWeighted(image, 4, cv2.GaussianBlur(image, (0,0), sigmaX), -4, 128)\n",
    "            gaussian = cv2.resize(gaussian, (224, 224))\n",
    "            cv2.imwrite(write_path, gaussian)\n"
   ]
  }
 ],
 "metadata": {
  "kernelspec": {
   "display_name": "Python 3",
   "language": "python",
   "name": "python3"
  },
  "language_info": {
   "codemirror_mode": {
    "name": "ipython",
    "version": 3
   },
   "file_extension": ".py",
   "mimetype": "text/x-python",
   "name": "python",
   "nbconvert_exporter": "python",
   "pygments_lexer": "ipython3",
   "version": "3.10.4"
  },
  "orig_nbformat": 4
 },
 "nbformat": 4,
 "nbformat_minor": 2
}
